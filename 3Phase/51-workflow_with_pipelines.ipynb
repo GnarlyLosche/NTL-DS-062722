{
 "cells": [
  {
   "cell_type": "markdown",
   "metadata": {},
   "source": [
    "# Classification Workflow with Pipelines"
   ]
  },
  {
   "cell_type": "markdown",
   "metadata": {},
   "source": [
    "Let's add pipelines into our workflow!"
   ]
  },
  {
   "cell_type": "code",
   "execution_count": 1,
   "metadata": {},
   "outputs": [],
   "source": [
    "import pandas as pd\n",
    "import numpy as np\n",
    "from matplotlib import pyplot as plt\n",
    "import seaborn as sns\n",
    "\n",
    "from sklearn.model_selection import train_test_split, GridSearchCV, cross_val_score\n",
    "from sklearn.pipeline import Pipeline\n",
    "from sklearn.preprocessing import StandardScaler, OneHotEncoder, FunctionTransformer\n",
    "from sklearn.impute import SimpleImputer\n",
    "from sklearn.compose import ColumnTransformer,  make_column_selector as selector\n",
    "from sklearn.linear_model import LogisticRegression\n",
    "from sklearn.ensemble import RandomForestClassifier, GradientBoostingClassifier\n",
    "from sklearn.metrics import plot_confusion_matrix, recall_score,\\\n",
    "    accuracy_score, precision_score, f1_score\n",
    "\n",
    "\n",
    "from sklearn.dummy import DummyClassifier\n",
    "\n",
    "from imblearn.over_sampling import SMOTE\n",
    "from imblearn.pipeline import Pipeline as ImPipeline"
   ]
  },
  {
   "cell_type": "code",
   "execution_count": 2,
   "metadata": {},
   "outputs": [
    {
     "data": {
      "text/html": [
       "<div>\n",
       "<style scoped>\n",
       "    .dataframe tbody tr th:only-of-type {\n",
       "        vertical-align: middle;\n",
       "    }\n",
       "\n",
       "    .dataframe tbody tr th {\n",
       "        vertical-align: top;\n",
       "    }\n",
       "\n",
       "    .dataframe thead th {\n",
       "        text-align: right;\n",
       "    }\n",
       "</style>\n",
       "<table border=\"1\" class=\"dataframe\">\n",
       "  <thead>\n",
       "    <tr style=\"text-align: right;\">\n",
       "      <th></th>\n",
       "      <th>PassengerId</th>\n",
       "      <th>Survived</th>\n",
       "      <th>Pclass</th>\n",
       "      <th>Name</th>\n",
       "      <th>Sex</th>\n",
       "      <th>Age</th>\n",
       "      <th>SibSp</th>\n",
       "      <th>Parch</th>\n",
       "      <th>Ticket</th>\n",
       "      <th>Fare</th>\n",
       "      <th>Cabin</th>\n",
       "      <th>Embarked</th>\n",
       "    </tr>\n",
       "  </thead>\n",
       "  <tbody>\n",
       "    <tr>\n",
       "      <th>0</th>\n",
       "      <td>1</td>\n",
       "      <td>0</td>\n",
       "      <td>3</td>\n",
       "      <td>Braund, Mr. Owen Harris</td>\n",
       "      <td>male</td>\n",
       "      <td>22.0</td>\n",
       "      <td>1</td>\n",
       "      <td>0</td>\n",
       "      <td>A/5 21171</td>\n",
       "      <td>7.2500</td>\n",
       "      <td>NaN</td>\n",
       "      <td>S</td>\n",
       "    </tr>\n",
       "    <tr>\n",
       "      <th>1</th>\n",
       "      <td>2</td>\n",
       "      <td>1</td>\n",
       "      <td>1</td>\n",
       "      <td>Cumings, Mrs. John Bradley (Florence Briggs Th...</td>\n",
       "      <td>female</td>\n",
       "      <td>38.0</td>\n",
       "      <td>1</td>\n",
       "      <td>0</td>\n",
       "      <td>PC 17599</td>\n",
       "      <td>71.2833</td>\n",
       "      <td>C85</td>\n",
       "      <td>C</td>\n",
       "    </tr>\n",
       "    <tr>\n",
       "      <th>2</th>\n",
       "      <td>3</td>\n",
       "      <td>1</td>\n",
       "      <td>3</td>\n",
       "      <td>Heikkinen, Miss. Laina</td>\n",
       "      <td>female</td>\n",
       "      <td>26.0</td>\n",
       "      <td>0</td>\n",
       "      <td>0</td>\n",
       "      <td>STON/O2. 3101282</td>\n",
       "      <td>7.9250</td>\n",
       "      <td>NaN</td>\n",
       "      <td>S</td>\n",
       "    </tr>\n",
       "    <tr>\n",
       "      <th>3</th>\n",
       "      <td>4</td>\n",
       "      <td>1</td>\n",
       "      <td>1</td>\n",
       "      <td>Futrelle, Mrs. Jacques Heath (Lily May Peel)</td>\n",
       "      <td>female</td>\n",
       "      <td>35.0</td>\n",
       "      <td>1</td>\n",
       "      <td>0</td>\n",
       "      <td>113803</td>\n",
       "      <td>53.1000</td>\n",
       "      <td>C123</td>\n",
       "      <td>S</td>\n",
       "    </tr>\n",
       "    <tr>\n",
       "      <th>4</th>\n",
       "      <td>5</td>\n",
       "      <td>0</td>\n",
       "      <td>3</td>\n",
       "      <td>Allen, Mr. William Henry</td>\n",
       "      <td>male</td>\n",
       "      <td>35.0</td>\n",
       "      <td>0</td>\n",
       "      <td>0</td>\n",
       "      <td>373450</td>\n",
       "      <td>8.0500</td>\n",
       "      <td>NaN</td>\n",
       "      <td>S</td>\n",
       "    </tr>\n",
       "  </tbody>\n",
       "</table>\n",
       "</div>"
      ],
      "text/plain": [
       "   PassengerId  Survived  Pclass  \\\n",
       "0            1         0       3   \n",
       "1            2         1       1   \n",
       "2            3         1       3   \n",
       "3            4         1       1   \n",
       "4            5         0       3   \n",
       "\n",
       "                                                Name     Sex   Age  SibSp  \\\n",
       "0                            Braund, Mr. Owen Harris    male  22.0      1   \n",
       "1  Cumings, Mrs. John Bradley (Florence Briggs Th...  female  38.0      1   \n",
       "2                             Heikkinen, Miss. Laina  female  26.0      0   \n",
       "3       Futrelle, Mrs. Jacques Heath (Lily May Peel)  female  35.0      1   \n",
       "4                           Allen, Mr. William Henry    male  35.0      0   \n",
       "\n",
       "   Parch            Ticket     Fare Cabin Embarked  \n",
       "0      0         A/5 21171   7.2500   NaN        S  \n",
       "1      0          PC 17599  71.2833   C85        C  \n",
       "2      0  STON/O2. 3101282   7.9250   NaN        S  \n",
       "3      0            113803  53.1000  C123        S  \n",
       "4      0            373450   8.0500   NaN        S  "
      ]
     },
     "execution_count": 2,
     "metadata": {},
     "output_type": "execute_result"
    }
   ],
   "source": [
    "titanic = pd.read_csv('./data/titanic.csv')\n",
    "titanic.head()"
   ]
  },
  {
   "cell_type": "code",
   "execution_count": 3,
   "metadata": {},
   "outputs": [],
   "source": [
    "X = titanic.drop(['PassengerId', 'Name', 'Survived'], axis=1)\n",
    "y = titanic['Survived']\n",
    "\n",
    "X_train, X_test, y_train, y_test = train_test_split(X, y, random_state=42)"
   ]
  },
  {
   "cell_type": "markdown",
   "metadata": {},
   "source": [
    "## Using `Pipeline` and `FunctionTransformer`"
   ]
  },
  {
   "cell_type": "markdown",
   "metadata": {},
   "source": [
    "Let's try a very simple pipeline first."
   ]
  },
  {
   "cell_type": "code",
   "execution_count": 4,
   "metadata": {},
   "outputs": [],
   "source": [
    "def grab_numeric(df):\n",
    "    return df.select_dtypes(include=['float', 'int'])"
   ]
  },
  {
   "cell_type": "code",
   "execution_count": 5,
   "metadata": {},
   "outputs": [
    {
     "data": {
      "text/html": [
       "<div>\n",
       "<style scoped>\n",
       "    .dataframe tbody tr th:only-of-type {\n",
       "        vertical-align: middle;\n",
       "    }\n",
       "\n",
       "    .dataframe tbody tr th {\n",
       "        vertical-align: top;\n",
       "    }\n",
       "\n",
       "    .dataframe thead th {\n",
       "        text-align: right;\n",
       "    }\n",
       "</style>\n",
       "<table border=\"1\" class=\"dataframe\">\n",
       "  <thead>\n",
       "    <tr style=\"text-align: right;\">\n",
       "      <th></th>\n",
       "      <th>Pclass</th>\n",
       "      <th>Age</th>\n",
       "      <th>SibSp</th>\n",
       "      <th>Parch</th>\n",
       "      <th>Fare</th>\n",
       "    </tr>\n",
       "  </thead>\n",
       "  <tbody>\n",
       "    <tr>\n",
       "      <th>0</th>\n",
       "      <td>3</td>\n",
       "      <td>22.0</td>\n",
       "      <td>1</td>\n",
       "      <td>0</td>\n",
       "      <td>7.2500</td>\n",
       "    </tr>\n",
       "    <tr>\n",
       "      <th>1</th>\n",
       "      <td>1</td>\n",
       "      <td>38.0</td>\n",
       "      <td>1</td>\n",
       "      <td>0</td>\n",
       "      <td>71.2833</td>\n",
       "    </tr>\n",
       "    <tr>\n",
       "      <th>2</th>\n",
       "      <td>3</td>\n",
       "      <td>26.0</td>\n",
       "      <td>0</td>\n",
       "      <td>0</td>\n",
       "      <td>7.9250</td>\n",
       "    </tr>\n",
       "    <tr>\n",
       "      <th>3</th>\n",
       "      <td>1</td>\n",
       "      <td>35.0</td>\n",
       "      <td>1</td>\n",
       "      <td>0</td>\n",
       "      <td>53.1000</td>\n",
       "    </tr>\n",
       "    <tr>\n",
       "      <th>4</th>\n",
       "      <td>3</td>\n",
       "      <td>35.0</td>\n",
       "      <td>0</td>\n",
       "      <td>0</td>\n",
       "      <td>8.0500</td>\n",
       "    </tr>\n",
       "    <tr>\n",
       "      <th>...</th>\n",
       "      <td>...</td>\n",
       "      <td>...</td>\n",
       "      <td>...</td>\n",
       "      <td>...</td>\n",
       "      <td>...</td>\n",
       "    </tr>\n",
       "    <tr>\n",
       "      <th>886</th>\n",
       "      <td>2</td>\n",
       "      <td>27.0</td>\n",
       "      <td>0</td>\n",
       "      <td>0</td>\n",
       "      <td>13.0000</td>\n",
       "    </tr>\n",
       "    <tr>\n",
       "      <th>887</th>\n",
       "      <td>1</td>\n",
       "      <td>19.0</td>\n",
       "      <td>0</td>\n",
       "      <td>0</td>\n",
       "      <td>30.0000</td>\n",
       "    </tr>\n",
       "    <tr>\n",
       "      <th>888</th>\n",
       "      <td>3</td>\n",
       "      <td>NaN</td>\n",
       "      <td>1</td>\n",
       "      <td>2</td>\n",
       "      <td>23.4500</td>\n",
       "    </tr>\n",
       "    <tr>\n",
       "      <th>889</th>\n",
       "      <td>1</td>\n",
       "      <td>26.0</td>\n",
       "      <td>0</td>\n",
       "      <td>0</td>\n",
       "      <td>30.0000</td>\n",
       "    </tr>\n",
       "    <tr>\n",
       "      <th>890</th>\n",
       "      <td>3</td>\n",
       "      <td>32.0</td>\n",
       "      <td>0</td>\n",
       "      <td>0</td>\n",
       "      <td>7.7500</td>\n",
       "    </tr>\n",
       "  </tbody>\n",
       "</table>\n",
       "<p>891 rows × 5 columns</p>\n",
       "</div>"
      ],
      "text/plain": [
       "     Pclass   Age  SibSp  Parch     Fare\n",
       "0         3  22.0      1      0   7.2500\n",
       "1         1  38.0      1      0  71.2833\n",
       "2         3  26.0      0      0   7.9250\n",
       "3         1  35.0      1      0  53.1000\n",
       "4         3  35.0      0      0   8.0500\n",
       "..      ...   ...    ...    ...      ...\n",
       "886       2  27.0      0      0  13.0000\n",
       "887       1  19.0      0      0  30.0000\n",
       "888       3   NaN      1      2  23.4500\n",
       "889       1  26.0      0      0  30.0000\n",
       "890       3  32.0      0      0   7.7500\n",
       "\n",
       "[891 rows x 5 columns]"
      ]
     },
     "execution_count": 5,
     "metadata": {},
     "output_type": "execute_result"
    }
   ],
   "source": [
    "grab_numeric(X)"
   ]
  },
  {
   "cell_type": "code",
   "execution_count": 6,
   "metadata": {},
   "outputs": [],
   "source": [
    "# The FunctionTransformer will turn my function\n",
    "# into a transformer.\n",
    "GrabNumeric = FunctionTransformer(grab_numeric)"
   ]
  },
  {
   "cell_type": "code",
   "execution_count": 7,
   "metadata": {},
   "outputs": [],
   "source": [
    "# Pipe!\n",
    "\n",
    "pipe = Pipeline(steps=[\n",
    "    ('num', GrabNumeric),\n",
    "    ('ss', StandardScaler())\n",
    "])"
   ]
  },
  {
   "cell_type": "code",
   "execution_count": 8,
   "metadata": {},
   "outputs": [
    {
     "data": {
      "text/plain": [
       "Pipeline(steps=[('num',\n",
       "                 FunctionTransformer(func=<function grab_numeric at 0x7fbb18b381f0>)),\n",
       "                ('ss', StandardScaler())])"
      ]
     },
     "execution_count": 8,
     "metadata": {},
     "output_type": "execute_result"
    }
   ],
   "source": [
    "pipe.fit(X)"
   ]
  },
  {
   "cell_type": "code",
   "execution_count": 9,
   "metadata": {},
   "outputs": [
    {
     "data": {
      "text/plain": [
       "array([[ 0.82737724, -0.53037664,  0.43279337, -0.47367361, -0.50244517],\n",
       "       [-1.56610693,  0.57183099,  0.43279337, -0.47367361,  0.78684529],\n",
       "       [ 0.82737724, -0.25482473, -0.4745452 , -0.47367361, -0.48885426],\n",
       "       ...,\n",
       "       [ 0.82737724,         nan,  0.43279337,  2.00893337, -0.17626324],\n",
       "       [-1.56610693, -0.25482473, -0.4745452 , -0.47367361, -0.04438104],\n",
       "       [ 0.82737724,  0.15850313, -0.4745452 , -0.47367361, -0.49237783]])"
      ]
     },
     "execution_count": 9,
     "metadata": {},
     "output_type": "execute_result"
    }
   ],
   "source": [
    "pipe.transform(X)"
   ]
  },
  {
   "cell_type": "markdown",
   "metadata": {},
   "source": [
    "That looks like it worked!"
   ]
  },
  {
   "cell_type": "markdown",
   "metadata": {},
   "source": [
    "## Using `Pipeline` and `ColumnTransformer`"
   ]
  },
  {
   "cell_type": "markdown",
   "metadata": {},
   "source": [
    "When we use the `ColumnTransformer` we'll want to choose the relevant column numbers, so let's remind ourselves which columns are where:"
   ]
  },
  {
   "cell_type": "code",
   "execution_count": 10,
   "metadata": {},
   "outputs": [
    {
     "data": {
      "text/html": [
       "<div>\n",
       "<style scoped>\n",
       "    .dataframe tbody tr th:only-of-type {\n",
       "        vertical-align: middle;\n",
       "    }\n",
       "\n",
       "    .dataframe tbody tr th {\n",
       "        vertical-align: top;\n",
       "    }\n",
       "\n",
       "    .dataframe thead th {\n",
       "        text-align: right;\n",
       "    }\n",
       "</style>\n",
       "<table border=\"1\" class=\"dataframe\">\n",
       "  <thead>\n",
       "    <tr style=\"text-align: right;\">\n",
       "      <th></th>\n",
       "      <th>Pclass</th>\n",
       "      <th>Sex</th>\n",
       "      <th>Age</th>\n",
       "      <th>SibSp</th>\n",
       "      <th>Parch</th>\n",
       "      <th>Ticket</th>\n",
       "      <th>Fare</th>\n",
       "      <th>Cabin</th>\n",
       "      <th>Embarked</th>\n",
       "    </tr>\n",
       "  </thead>\n",
       "  <tbody>\n",
       "    <tr>\n",
       "      <th>0</th>\n",
       "      <td>3</td>\n",
       "      <td>male</td>\n",
       "      <td>22.0</td>\n",
       "      <td>1</td>\n",
       "      <td>0</td>\n",
       "      <td>A/5 21171</td>\n",
       "      <td>7.2500</td>\n",
       "      <td>NaN</td>\n",
       "      <td>S</td>\n",
       "    </tr>\n",
       "    <tr>\n",
       "      <th>1</th>\n",
       "      <td>1</td>\n",
       "      <td>female</td>\n",
       "      <td>38.0</td>\n",
       "      <td>1</td>\n",
       "      <td>0</td>\n",
       "      <td>PC 17599</td>\n",
       "      <td>71.2833</td>\n",
       "      <td>C85</td>\n",
       "      <td>C</td>\n",
       "    </tr>\n",
       "    <tr>\n",
       "      <th>2</th>\n",
       "      <td>3</td>\n",
       "      <td>female</td>\n",
       "      <td>26.0</td>\n",
       "      <td>0</td>\n",
       "      <td>0</td>\n",
       "      <td>STON/O2. 3101282</td>\n",
       "      <td>7.9250</td>\n",
       "      <td>NaN</td>\n",
       "      <td>S</td>\n",
       "    </tr>\n",
       "    <tr>\n",
       "      <th>3</th>\n",
       "      <td>1</td>\n",
       "      <td>female</td>\n",
       "      <td>35.0</td>\n",
       "      <td>1</td>\n",
       "      <td>0</td>\n",
       "      <td>113803</td>\n",
       "      <td>53.1000</td>\n",
       "      <td>C123</td>\n",
       "      <td>S</td>\n",
       "    </tr>\n",
       "    <tr>\n",
       "      <th>4</th>\n",
       "      <td>3</td>\n",
       "      <td>male</td>\n",
       "      <td>35.0</td>\n",
       "      <td>0</td>\n",
       "      <td>0</td>\n",
       "      <td>373450</td>\n",
       "      <td>8.0500</td>\n",
       "      <td>NaN</td>\n",
       "      <td>S</td>\n",
       "    </tr>\n",
       "  </tbody>\n",
       "</table>\n",
       "</div>"
      ],
      "text/plain": [
       "   Pclass     Sex   Age  SibSp  Parch            Ticket     Fare Cabin  \\\n",
       "0       3    male  22.0      1      0         A/5 21171   7.2500   NaN   \n",
       "1       1  female  38.0      1      0          PC 17599  71.2833   C85   \n",
       "2       3  female  26.0      0      0  STON/O2. 3101282   7.9250   NaN   \n",
       "3       1  female  35.0      1      0            113803  53.1000  C123   \n",
       "4       3    male  35.0      0      0            373450   8.0500   NaN   \n",
       "\n",
       "  Embarked  \n",
       "0        S  \n",
       "1        C  \n",
       "2        S  \n",
       "3        S  \n",
       "4        S  "
      ]
     },
     "execution_count": 10,
     "metadata": {},
     "output_type": "execute_result"
    }
   ],
   "source": [
    "X.head()"
   ]
  },
  {
   "cell_type": "code",
   "execution_count": 11,
   "metadata": {},
   "outputs": [],
   "source": [
    "# We'll throw these mini-pipelines into our ColumnTransformer: numeric and categorical\n",
    "subpipe_num = Pipeline(steps=[\n",
    "    ('num_impute', SimpleImputer(strategy='median')),\n",
    "    ('ss', StandardScaler())\n",
    "])\n",
    "\n",
    "subpipe_cat = Pipeline(steps=[\n",
    "    ('cat_impute', SimpleImputer(strategy='most_frequent')),\n",
    "    ('ohe', OneHotEncoder(sparse=False, handle_unknown='ignore'))\n",
    "])"
   ]
  },
  {
   "cell_type": "markdown",
   "metadata": {},
   "source": [
    "### Selector!!!!\n",
    "\n",
    "[This](https://scikit-learn.org/stable/modules/generated/sklearn.compose.make_column_selector.html#sklearn.compose.make_column_selector) will return a callable list of columns"
   ]
  },
  {
   "cell_type": "code",
   "execution_count": 12,
   "metadata": {},
   "outputs": [
    {
     "data": {
      "text/plain": [
       "['Sex', 'Ticket', 'Cabin', 'Embarked']"
      ]
     },
     "execution_count": 12,
     "metadata": {},
     "output_type": "execute_result"
    }
   ],
   "source": [
    "# Selector!\n",
    "\n",
    "test = selector(dtype_include=object)\n",
    "\n",
    "test(X)"
   ]
  },
  {
   "cell_type": "code",
   "execution_count": 13,
   "metadata": {},
   "outputs": [],
   "source": [
    "# The \"remainder='passthrough'\" bit tells the compiler to leave\n",
    "# the other df columns unchanged.\n",
    "CT = ColumnTransformer(transformers=[\n",
    "    ('subpipe_num', subpipe_num, selector(dtype_include=np.number)),\n",
    "    ('subpipe_cat', subpipe_cat, selector(dtype_include=object))\n",
    "], remainder='passthrough')"
   ]
  },
  {
   "cell_type": "code",
   "execution_count": 14,
   "metadata": {},
   "outputs": [],
   "source": [
    "# The `ColumnTransformer` will take care of our preprocessing,\n",
    "# so now we can add our model at the end of the pipeline.\n",
    "\n",
    "dummy_model_pipe = Pipeline(steps=[\n",
    "    ('ct', CT),\n",
    "    ('dum', DummyClassifier(strategy='most_frequent'))\n",
    "])\n"
   ]
  },
  {
   "cell_type": "code",
   "execution_count": 64,
   "metadata": {},
   "outputs": [],
   "source": [
    "dummy_model = dummy_model_pipe.fit(X_train, y_train)"
   ]
  },
  {
   "cell_type": "code",
   "execution_count": 65,
   "metadata": {},
   "outputs": [
    {
     "data": {
      "text/plain": [
       "0.6212574850299402"
      ]
     },
     "execution_count": 65,
     "metadata": {},
     "output_type": "execute_result"
    }
   ],
   "source": [
    "dummy_model.score(X_train, y_train)"
   ]
  },
  {
   "cell_type": "code",
   "execution_count": 66,
   "metadata": {},
   "outputs": [
    {
     "data": {
      "text/plain": [
       "0.600896860986547"
      ]
     },
     "execution_count": 66,
     "metadata": {},
     "output_type": "execute_result"
    }
   ],
   "source": [
    "dummy_model.score(X_test, y_test)"
   ]
  },
  {
   "cell_type": "code",
   "execution_count": 15,
   "metadata": {},
   "outputs": [],
   "source": [
    "logreg_model_pipe = Pipeline([\n",
    "    ('ct', CT),\n",
    "    ('logreg', LogisticRegression(random_state=42))\n",
    "])"
   ]
  },
  {
   "cell_type": "code",
   "execution_count": null,
   "metadata": {},
   "outputs": [],
   "source": []
  },
  {
   "cell_type": "markdown",
   "metadata": {},
   "source": [
    "## Bringing in Our Modeling Class from before"
   ]
  },
  {
   "cell_type": "code",
   "execution_count": 16,
   "metadata": {},
   "outputs": [],
   "source": [
    "class ModelWithCV():\n",
    "    '''Structure to save the model and more easily see its crossvalidation'''\n",
    "    \n",
    "    def __init__(self, model, model_name, X, y, cv_now=True):\n",
    "        self.model = model\n",
    "        self.name = model_name\n",
    "        self.X = X\n",
    "        self.y = y\n",
    "        # For CV results\n",
    "        self.cv_results = None\n",
    "        self.cv_mean = None\n",
    "        self.cv_median = None\n",
    "        self.cv_std = None\n",
    "        #\n",
    "        if cv_now:\n",
    "            self.cross_validate()\n",
    "        \n",
    "    def cross_validate(self, X=None, y=None, kfolds=10):\n",
    "        '''\n",
    "        Perform cross-validation and return results.\n",
    "        \n",
    "        Args: \n",
    "          X:\n",
    "            Optional; Training data to perform CV on. Otherwise use X from object\n",
    "          y:\n",
    "            Optional; Training data to perform CV on. Otherwise use y from object\n",
    "          kfolds:\n",
    "            Optional; Number of folds for CV (default is 10)  \n",
    "        '''\n",
    "        \n",
    "        cv_X = X if X else self.X\n",
    "        cv_y = y if y else self.y\n",
    "\n",
    "        self.cv_results = cross_val_score(self.model, cv_X, cv_y, cv=kfolds)\n",
    "        self.cv_mean = np.mean(self.cv_results)\n",
    "        self.cv_median = np.median(self.cv_results)\n",
    "        self.cv_std = np.std(self.cv_results)\n",
    "\n",
    "        \n",
    "    def print_cv_summary(self):\n",
    "        cv_summary = (\n",
    "        f'''CV Results for `{self.name}` model:\n",
    "            {self.cv_mean:.5f} ± {self.cv_std:.5f} accuracy\n",
    "        ''')\n",
    "        print(cv_summary)\n",
    "\n",
    "        \n",
    "    def plot_cv(self, ax):\n",
    "        '''\n",
    "        Plot the cross-validation values using the array of results and given \n",
    "        Axis for plotting.\n",
    "        '''\n",
    "        ax.set_title(f'CV Results for `{self.name}` Model')\n",
    "        # Thinner violinplot with higher bw\n",
    "        sns.violinplot(y=self.cv_results, ax=ax, bw=.4)\n",
    "        sns.swarmplot(\n",
    "                y=self.cv_results,\n",
    "                color='orange',\n",
    "                size=10,\n",
    "                alpha= 0.8,\n",
    "                ax=ax\n",
    "        )\n",
    "\n",
    "        return ax"
   ]
  },
  {
   "cell_type": "code",
   "execution_count": 17,
   "metadata": {},
   "outputs": [],
   "source": [
    "# Create Dummy/Baseline\n",
    "\n",
    "dummy_pipe = ModelWithCV(dummy_model_pipe, 'dummy_model', X_train, y_train)"
   ]
  },
  {
   "cell_type": "code",
   "execution_count": 68,
   "metadata": {},
   "outputs": [
    {
     "data": {
      "text/plain": [
       "<AxesSubplot:title={'center':'CV Results for `dummy_model` Model'}>"
      ]
     },
     "execution_count": 68,
     "metadata": {},
     "output_type": "execute_result"
    },
    {
     "data": {
      "image/png": "[encoded data removed]",
      "text/plain": [
       "<Figure size 720x720 with 1 Axes>"
      ]
     },
     "metadata": {
      "needs_background": "light"
     },
     "output_type": "display_data"
    }
   ],
   "source": [
    "# Use the class with out dummy pipe\n",
    "\n",
    "fig, ax = plt.subplots(figsize=(10,10))\n",
    "\n",
    "dummy_pipe.plot_cv(ax)"
   ]
  },
  {
   "cell_type": "code",
   "execution_count": 19,
   "metadata": {},
   "outputs": [],
   "source": [
    "# Create FSM (First Simple Model)\n",
    "logreg_pipe = ModelWithCV(logreg_model_pipe, 'logreg_model', X_train, y_train)"
   ]
  },
  {
   "cell_type": "code",
   "execution_count": 20,
   "metadata": {
    "scrolled": true
   },
   "outputs": [
    {
     "name": "stdout",
     "output_type": "stream",
     "text": [
      "CV Results for `logreg_model` model:\n",
      "            0.80249 ± 0.06362 accuracy\n",
      "        \n"
     ]
    }
   ],
   "source": [
    "logreg_pipe.print_cv_summary()"
   ]
  },
  {
   "cell_type": "code",
   "execution_count": 21,
   "metadata": {},
   "outputs": [
    {
     "data": {
      "text/plain": [
       "<AxesSubplot:title={'center':'CV Results for `logreg_model` Model'}>"
      ]
     },
     "execution_count": 21,
     "metadata": {},
     "output_type": "execute_result"
    },
    {
     "data": {
      "image/png": "[encoded data removed]",
      "text/plain": [
       "<Figure size 432x288 with 1 Axes>"
      ]
     },
     "metadata": {
      "needs_background": "light"
     },
     "output_type": "display_data"
    }
   ],
   "source": [
    "fig, ax = plt.subplots()\n",
    "\n",
    "logreg_pipe.plot_cv(ax)"
   ]
  },
  {
   "cell_type": "code",
   "execution_count": null,
   "metadata": {},
   "outputs": [],
   "source": []
  },
  {
   "cell_type": "code",
   "execution_count": 22,
   "metadata": {},
   "outputs": [],
   "source": [
    "# Use the class with out logreg pipe\n"
   ]
  },
  {
   "cell_type": "markdown",
   "metadata": {},
   "source": [
    "## Trying Other Models at the End of the Pipeline"
   ]
  },
  {
   "cell_type": "markdown",
   "metadata": {},
   "source": [
    "Can I have multiple models in a single pipeline? Yes. We'll forgo this here, but for more on this see [here](https://stackoverflow.com/questions/48507651/multiple-classification-models-in-a-scikit-pipeline-python)."
   ]
  },
  {
   "cell_type": "markdown",
   "metadata": {},
   "source": [
    "### Random Forest"
   ]
  },
  {
   "cell_type": "code",
   "execution_count": 23,
   "metadata": {},
   "outputs": [],
   "source": [
    "# rfc!\n",
    "\n",
    "rfc_model_pipe = Pipeline([\n",
    "    ('ct', CT),\n",
    "    ('rfc', RandomForestClassifier(random_state=42))\n",
    "])"
   ]
  },
  {
   "cell_type": "code",
   "execution_count": 24,
   "metadata": {},
   "outputs": [],
   "source": [
    "rfc_pipe = ModelWithCV(rfc_model_pipe, 'rfc_model', X_train, y_train)"
   ]
  },
  {
   "cell_type": "code",
   "execution_count": 25,
   "metadata": {},
   "outputs": [
    {
     "name": "stdout",
     "output_type": "stream",
     "text": [
      "CV Results for `rfc_model` model:\n",
      "            0.82802 ± 0.05856 accuracy\n",
      "        \n"
     ]
    }
   ],
   "source": [
    "rfc_pipe.print_cv_summary()"
   ]
  },
  {
   "cell_type": "code",
   "execution_count": 26,
   "metadata": {},
   "outputs": [
    {
     "data": {
      "text/plain": [
       "<AxesSubplot:title={'center':'CV Results for `rfc_model` Model'}>"
      ]
     },
     "execution_count": 26,
     "metadata": {},
     "output_type": "execute_result"
    },
    {
     "data": {
      "image/png": "[encoded data removed]",
      "text/plain": [
       "<Figure size 432x288 with 1 Axes>"
      ]
     },
     "metadata": {
      "needs_background": "light"
     },
     "output_type": "display_data"
    }
   ],
   "source": [
    "fig, ax = plt.subplots()\n",
    "\n",
    "rfc_pipe.plot_cv(ax)"
   ]
  },
  {
   "cell_type": "markdown",
   "metadata": {},
   "source": [
    "### Gradient Booster"
   ]
  },
  {
   "cell_type": "code",
   "execution_count": 27,
   "metadata": {},
   "outputs": [],
   "source": [
    "# gbc!\n",
    "gbc = GradientBoostingClassifier(random_state=42)\n",
    "\n",
    "\n",
    "gbc_model_pipe = Pipeline([\n",
    "    ('ct', CT),\n",
    "    ('gbc', gbc)\n",
    "])"
   ]
  },
  {
   "cell_type": "code",
   "execution_count": 28,
   "metadata": {},
   "outputs": [],
   "source": [
    "gbc_pipe = ModelWithCV(gbc_model_pipe, 'gbc_model', X_train, y_train)"
   ]
  },
  {
   "cell_type": "code",
   "execution_count": 29,
   "metadata": {
    "scrolled": false
   },
   "outputs": [
    {
     "name": "stdout",
     "output_type": "stream",
     "text": [
      "CV Results for `gbc_model` model:\n",
      "            0.82641 ± 0.05989 accuracy\n",
      "        \n"
     ]
    }
   ],
   "source": [
    "gbc_pipe.print_cv_summary()"
   ]
  },
  {
   "cell_type": "code",
   "execution_count": 30,
   "metadata": {},
   "outputs": [
    {
     "data": {
      "text/plain": [
       "<AxesSubplot:title={'center':'CV Results for `gbc_model` Model'}>"
      ]
     },
     "execution_count": 30,
     "metadata": {},
     "output_type": "execute_result"
    },
    {
     "data": {
      "image/png": "[encoded data removed]",
      "text/plain": [
       "<Figure size 432x288 with 1 Axes>"
      ]
     },
     "metadata": {
      "needs_background": "light"
     },
     "output_type": "display_data"
    }
   ],
   "source": [
    "fig, ax = plt.subplots()\n",
    "\n",
    "gbc_pipe.plot_cv(ax)"
   ]
  },
  {
   "cell_type": "code",
   "execution_count": null,
   "metadata": {},
   "outputs": [],
   "source": []
  },
  {
   "cell_type": "markdown",
   "metadata": {},
   "source": [
    "## Tuning and Cross-Validating"
   ]
  },
  {
   "cell_type": "code",
   "execution_count": 31,
   "metadata": {},
   "outputs": [
    {
     "data": {
      "text/plain": [
       "Pipeline(steps=[('ct',\n",
       "                 ColumnTransformer(remainder='passthrough',\n",
       "                                   transformers=[('subpipe_num',\n",
       "                                                  Pipeline(steps=[('num_impute',\n",
       "                                                                   SimpleImputer(strategy='median')),\n",
       "                                                                  ('ss',\n",
       "                                                                   StandardScaler())]),\n",
       "                                                  <sklearn.compose._column_transformer.make_column_selector object at 0x7fbafb30a8e0>),\n",
       "                                                 ('subpipe_cat',\n",
       "                                                  Pipeline(steps=[('cat_impute',\n",
       "                                                                   SimpleImputer(strategy='most_frequent')),\n",
       "                                                                  ('ohe',\n",
       "                                                                   OneHotEncoder(handle_unknown='ignore',\n",
       "                                                                                 sparse=False))]),\n",
       "                                                  <sklearn.compose._column_transformer.make_column_selector object at 0x7fbafb30a9a0>)])),\n",
       "                ('rfc', RandomForestClassifier(random_state=42))])"
      ]
     },
     "execution_count": 31,
     "metadata": {},
     "output_type": "execute_result"
    }
   ],
   "source": [
    "# GridSearch?\n",
    "\n",
    "rfc_model_pipe"
   ]
  },
  {
   "cell_type": "code",
   "execution_count": 32,
   "metadata": {},
   "outputs": [
    {
     "data": {
      "text/plain": [
       "Pipeline(steps=[('num_impute', SimpleImputer(strategy='median')),\n",
       "                ('ss', StandardScaler())])"
      ]
     },
     "execution_count": 32,
     "metadata": {},
     "output_type": "execute_result"
    }
   ],
   "source": [
    "subpipe_num"
   ]
  },
  {
   "cell_type": "code",
   "execution_count": 33,
   "metadata": {},
   "outputs": [],
   "source": [
    "# Mean test score for each of six models\n",
    "\n",
    "params = {}\n",
    "\n",
    "params['ct__subpipe_num__num_impute__strategy'] = ['mean', 'median']\n",
    "params['rfc__criterion'] = ['gini', 'entropy']\n",
    "params['rfc__min_samples_leaf'] = [1,5,10]"
   ]
  },
  {
   "cell_type": "code",
   "execution_count": 34,
   "metadata": {},
   "outputs": [
    {
     "data": {
      "text/plain": [
       "{'ct__subpipe_num__num_impute__strategy': ['mean', 'median'],\n",
       " 'rfc__criterion': ['gini', 'entropy'],\n",
       " 'rfc__min_samples_leaf': [1, 5, 10]}"
      ]
     },
     "execution_count": 34,
     "metadata": {},
     "output_type": "execute_result"
    }
   ],
   "source": [
    "params"
   ]
  },
  {
   "cell_type": "code",
   "execution_count": 35,
   "metadata": {},
   "outputs": [],
   "source": [
    "gs = GridSearchCV(rfc_model_pipe, params, cv=10, verbose=1)"
   ]
  },
  {
   "cell_type": "code",
   "execution_count": 36,
   "metadata": {},
   "outputs": [
    {
     "name": "stdout",
     "output_type": "stream",
     "text": [
      "Fitting 10 folds for each of 12 candidates, totalling 120 fits\n"
     ]
    },
    {
     "name": "stderr",
     "output_type": "stream",
     "text": [
      "[Parallel(n_jobs=1)]: Using backend SequentialBackend with 1 concurrent workers.\n",
      "[Parallel(n_jobs=1)]: Done 120 out of 120 | elapsed:   13.1s finished\n"
     ]
    },
    {
     "data": {
      "text/plain": [
       "GridSearchCV(cv=10,\n",
       "             estimator=Pipeline(steps=[('ct',\n",
       "                                        ColumnTransformer(remainder='passthrough',\n",
       "                                                          transformers=[('subpipe_num',\n",
       "                                                                         Pipeline(steps=[('num_impute',\n",
       "                                                                                          SimpleImputer(strategy='median')),\n",
       "                                                                                         ('ss',\n",
       "                                                                                          StandardScaler())]),\n",
       "                                                                         <sklearn.compose._column_transformer.make_column_selector object at 0x7fbafb30a8e0>),\n",
       "                                                                        ('subpipe_cat',\n",
       "                                                                         Pipeline(steps=[('cat_impute',\n",
       "                                                                                          SimpleImput...)),\n",
       "                                                                                         ('ohe',\n",
       "                                                                                          OneHotEncoder(handle_unknown='ignore',\n",
       "                                                                                                        sparse=False))]),\n",
       "                                                                         <sklearn.compose._column_transformer.make_column_selector object at 0x7fbafb30a9a0>)])),\n",
       "                                       ('rfc',\n",
       "                                        RandomForestClassifier(random_state=42))]),\n",
       "             param_grid={'ct__subpipe_num__num_impute__strategy': ['mean',\n",
       "                                                                   'median'],\n",
       "                         'rfc__criterion': ['gini', 'entropy'],\n",
       "                         'rfc__min_samples_leaf': [1, 5, 10]},\n",
       "             verbose=1)"
      ]
     },
     "execution_count": 36,
     "metadata": {},
     "output_type": "execute_result"
    }
   ],
   "source": [
    "gs.fit(X_train, y_train)"
   ]
  },
  {
   "cell_type": "code",
   "execution_count": 37,
   "metadata": {},
   "outputs": [
    {
     "data": {
      "text/plain": [
       "{'ct__subpipe_num__num_impute__strategy': 'median',\n",
       " 'rfc__criterion': 'entropy',\n",
       " 'rfc__min_samples_leaf': 1}"
      ]
     },
     "execution_count": 37,
     "metadata": {},
     "output_type": "execute_result"
    }
   ],
   "source": [
    "gs.best_params_"
   ]
  },
  {
   "cell_type": "code",
   "execution_count": 38,
   "metadata": {},
   "outputs": [
    {
     "data": {
      "text/plain": [
       "0.8294436906377204"
      ]
     },
     "execution_count": 38,
     "metadata": {},
     "output_type": "execute_result"
    }
   ],
   "source": [
    "gs.best_score_"
   ]
  },
  {
   "cell_type": "code",
   "execution_count": 39,
   "metadata": {},
   "outputs": [
    {
     "data": {
      "text/plain": [
       "0.6896615407809437"
      ]
     },
     "execution_count": 39,
     "metadata": {},
     "output_type": "execute_result"
    }
   ],
   "source": [
    "gs.cv_results_['mean_test_score'].mean()"
   ]
  },
  {
   "cell_type": "code",
   "execution_count": 40,
   "metadata": {},
   "outputs": [
    {
     "data": {
      "text/plain": [
       "0.9985029940119761"
      ]
     },
     "execution_count": 40,
     "metadata": {},
     "output_type": "execute_result"
    }
   ],
   "source": [
    "gs.score(X_train, y_train)"
   ]
  },
  {
   "cell_type": "code",
   "execution_count": 41,
   "metadata": {},
   "outputs": [
    {
     "data": {
      "text/plain": [
       "0.8340807174887892"
      ]
     },
     "execution_count": 41,
     "metadata": {},
     "output_type": "execute_result"
    }
   ],
   "source": [
    "gs.score(X_test, y_test)"
   ]
  },
  {
   "cell_type": "markdown",
   "metadata": {},
   "source": [
    "## `imblearn` Pipelines\n",
    "\n",
    "### Dealing with the Target Imbalance"
   ]
  },
  {
   "cell_type": "markdown",
   "metadata": {},
   "source": [
    "Let's use `SMOTE()`:"
   ]
  },
  {
   "cell_type": "code",
   "execution_count": 42,
   "metadata": {},
   "outputs": [
    {
     "data": {
      "text/plain": [
       "0    415\n",
       "1    253\n",
       "Name: Survived, dtype: int64"
      ]
     },
     "execution_count": 42,
     "metadata": {},
     "output_type": "execute_result"
    }
   ],
   "source": [
    "y_train.value_counts()"
   ]
  },
  {
   "cell_type": "code",
   "execution_count": 43,
   "metadata": {},
   "outputs": [],
   "source": [
    "sm = SMOTE(sampling_strategy='auto', random_state=42)"
   ]
  },
  {
   "cell_type": "code",
   "execution_count": 44,
   "metadata": {},
   "outputs": [],
   "source": [
    "sm2 = SMOTE(sampling_strategy=0.8, random_state=42)"
   ]
  },
  {
   "cell_type": "markdown",
   "metadata": {},
   "source": [
    "To make things simple (and avoid errors!), let's just grab the numeric types and eliminate the NaNs from X_train:"
   ]
  },
  {
   "cell_type": "code",
   "execution_count": 45,
   "metadata": {},
   "outputs": [],
   "source": [
    "X_train_clean = X_train.select_dtypes(['float', 'int']).dropna()\n",
    "y_train_clean = y_train[X_train_clean.index]"
   ]
  },
  {
   "cell_type": "code",
   "execution_count": 46,
   "metadata": {},
   "outputs": [
    {
     "data": {
      "text/plain": [
       "0    317\n",
       "1    219\n",
       "Name: Survived, dtype: int64"
      ]
     },
     "execution_count": 46,
     "metadata": {},
     "output_type": "execute_result"
    }
   ],
   "source": [
    "y_train_clean.value_counts()"
   ]
  },
  {
   "cell_type": "code",
   "execution_count": 47,
   "metadata": {},
   "outputs": [
    {
     "data": {
      "text/plain": [
       "1    317\n",
       "0    317\n",
       "Name: Survived, dtype: int64"
      ]
     },
     "execution_count": 47,
     "metadata": {},
     "output_type": "execute_result"
    }
   ],
   "source": [
    "# Even distribution\n",
    "\n",
    "X_clean_resmp, y_clean_resmp = sm.fit_resample(X_train_clean, y_train_clean)\n",
    "\n",
    "y_clean_resmp.value_counts()"
   ]
  },
  {
   "cell_type": "code",
   "execution_count": 48,
   "metadata": {},
   "outputs": [
    {
     "data": {
      "text/plain": [
       "0    317\n",
       "1    253\n",
       "Name: Survived, dtype: int64"
      ]
     },
     "execution_count": 48,
     "metadata": {},
     "output_type": "execute_result"
    }
   ],
   "source": [
    "# Distribution where count of 1's = 0.8 * count of 0's\n",
    "\n",
    "X_clean_resmp2, y_clean_resmp2 = sm2.fit_resample(X_train_clean, y_train_clean)\n",
    "\n",
    "y_clean_resmp2.value_counts()"
   ]
  },
  {
   "cell_type": "markdown",
   "metadata": {},
   "source": [
    "### `imblearn` Pipeline"
   ]
  },
  {
   "cell_type": "markdown",
   "metadata": {},
   "source": [
    "Of course, we want to be able to perform all of our preprocessing steps from above, but just now add `SMOTE`. Good thing we can throw it all into a pipeline!"
   ]
  },
  {
   "cell_type": "code",
   "execution_count": 49,
   "metadata": {},
   "outputs": [],
   "source": [
    "# imbpipe!\n",
    "\n",
    "imb_pipe = ImPipeline(steps=[\n",
    "    ('ct', CT),\n",
    "    ('sm',SMOTE(random_state=42)),\n",
    "    ('rfc', RandomForestClassifier(random_state=42))\n",
    "])"
   ]
  },
  {
   "cell_type": "code",
   "execution_count": 50,
   "metadata": {},
   "outputs": [
    {
     "data": {
      "text/plain": [
       "Pipeline(steps=[('ct',\n",
       "                 ColumnTransformer(remainder='passthrough',\n",
       "                                   transformers=[('subpipe_num',\n",
       "                                                  Pipeline(steps=[('num_impute',\n",
       "                                                                   SimpleImputer(strategy='median')),\n",
       "                                                                  ('ss',\n",
       "                                                                   StandardScaler())]),\n",
       "                                                  <sklearn.compose._column_transformer.make_column_selector object at 0x7fbafb30a8e0>),\n",
       "                                                 ('subpipe_cat',\n",
       "                                                  Pipeline(steps=[('cat_impute',\n",
       "                                                                   SimpleImputer(strategy='most_frequent')),\n",
       "                                                                  ('ohe',\n",
       "                                                                   OneHotEncoder(handle_unknown='ignore',\n",
       "                                                                                 sparse=False))]),\n",
       "                                                  <sklearn.compose._column_transformer.make_column_selector object at 0x7fbafb30a9a0>)])),\n",
       "                ('sm', SMOTE(random_state=42)),\n",
       "                ('rfc', RandomForestClassifier(random_state=42))])"
      ]
     },
     "execution_count": 50,
     "metadata": {},
     "output_type": "execute_result"
    }
   ],
   "source": [
    "imb_pipe.fit(X_train_clean, y_train_clean)"
   ]
  },
  {
   "cell_type": "code",
   "execution_count": 51,
   "metadata": {},
   "outputs": [
    {
     "data": {
      "text/plain": [
       "0.9794776119402985"
      ]
     },
     "execution_count": 51,
     "metadata": {},
     "output_type": "execute_result"
    }
   ],
   "source": [
    "imb_pipe.score(X_train_clean, y_train_clean)"
   ]
  },
  {
   "cell_type": "markdown",
   "metadata": {},
   "source": [
    "### Gridsearching"
   ]
  },
  {
   "cell_type": "code",
   "execution_count": 52,
   "metadata": {},
   "outputs": [],
   "source": [
    "# Seriously? Again?\n",
    "\n",
    "parameters = {\n",
    "    'rfc__criterion':['gini', 'entropy'],\n",
    "    'rfc__min_samples_leaf': [1,5,10],\n",
    "    'sm__k_neighbors': [3,5,7]\n",
    "}\n",
    "\n",
    "gs = GridSearchCV(imb_pipe, parameters, cv=10, verbose=2)"
   ]
  },
  {
   "cell_type": "code",
   "execution_count": 53,
   "metadata": {},
   "outputs": [
    {
     "name": "stdout",
     "output_type": "stream",
     "text": [
      "Fitting 10 folds for each of 18 candidates, totalling 180 fits\n",
      "[CV] rfc__criterion=gini, rfc__min_samples_leaf=1, sm__k_neighbors=3 .\n",
      "[CV]  rfc__criterion=gini, rfc__min_samples_leaf=1, sm__k_neighbors=3, total=   0.1s\n",
      "[CV] rfc__criterion=gini, rfc__min_samples_leaf=1, sm__k_neighbors=3 .\n"
     ]
    },
    {
     "name": "stderr",
     "output_type": "stream",
     "text": [
      "[Parallel(n_jobs=1)]: Using backend SequentialBackend with 1 concurrent workers.\n",
      "[Parallel(n_jobs=1)]: Done   1 out of   1 | elapsed:    0.1s remaining:    0.0s\n"
     ]
    },
    {
     "name": "stdout",
     "output_type": "stream",
     "text": [
      "[CV]  rfc__criterion=gini, rfc__min_samples_leaf=1, sm__k_neighbors=3, total=   0.1s\n",
      "[CV] rfc__criterion=gini, rfc__min_samples_leaf=1, sm__k_neighbors=3 .\n",
      "[CV]  rfc__criterion=gini, rfc__min_samples_leaf=1, sm__k_neighbors=3, total=   0.1s\n",
      "[CV] rfc__criterion=gini, rfc__min_samples_leaf=1, sm__k_neighbors=3 .\n",
      "[CV]  rfc__criterion=gini, rfc__min_samples_leaf=1, sm__k_neighbors=3, total=   0.1s\n",
      "[CV] rfc__criterion=gini, rfc__min_samples_leaf=1, sm__k_neighbors=3 .\n",
      "[CV]  rfc__criterion=gini, rfc__min_samples_leaf=1, sm__k_neighbors=3, total=   0.1s\n",
      "[CV] rfc__criterion=gini, rfc__min_samples_leaf=1, sm__k_neighbors=3 .\n",
      "[CV]  rfc__criterion=gini, rfc__min_samples_leaf=1, sm__k_neighbors=3, total=   0.1s\n",
      "[CV] rfc__criterion=gini, rfc__min_samples_leaf=1, sm__k_neighbors=3 .\n",
      "[CV]  rfc__criterion=gini, rfc__min_samples_leaf=1, sm__k_neighbors=3, total=   0.1s\n",
      "[CV] rfc__criterion=gini, rfc__min_samples_leaf=1, sm__k_neighbors=3 .\n",
      "[CV]  rfc__criterion=gini, rfc__min_samples_leaf=1, sm__k_neighbors=3, total=   0.1s\n",
      "[CV] rfc__criterion=gini, rfc__min_samples_leaf=1, sm__k_neighbors=3 .\n",
      "[CV]  rfc__criterion=gini, rfc__min_samples_leaf=1, sm__k_neighbors=3, total=   0.1s\n",
      "[CV] rfc__criterion=gini, rfc__min_samples_leaf=1, sm__k_neighbors=3 .\n",
      "[CV]  rfc__criterion=gini, rfc__min_samples_leaf=1, sm__k_neighbors=3, total=   0.1s\n",
      "[CV] rfc__criterion=gini, rfc__min_samples_leaf=1, sm__k_neighbors=5 .\n",
      "[CV]  rfc__criterion=gini, rfc__min_samples_leaf=1, sm__k_neighbors=5, total=   0.1s\n",
      "[CV] rfc__criterion=gini, rfc__min_samples_leaf=1, sm__k_neighbors=5 .\n",
      "[CV]  rfc__criterion=gini, rfc__min_samples_leaf=1, sm__k_neighbors=5, total=   0.1s\n",
      "[CV] rfc__criterion=gini, rfc__min_samples_leaf=1, sm__k_neighbors=5 .\n",
      "[CV]  rfc__criterion=gini, rfc__min_samples_leaf=1, sm__k_neighbors=5, total=   0.1s\n",
      "[CV] rfc__criterion=gini, rfc__min_samples_leaf=1, sm__k_neighbors=5 .\n",
      "[CV]  rfc__criterion=gini, rfc__min_samples_leaf=1, sm__k_neighbors=5, total=   0.1s\n",
      "[CV] rfc__criterion=gini, rfc__min_samples_leaf=1, sm__k_neighbors=5 .\n",
      "[CV]  rfc__criterion=gini, rfc__min_samples_leaf=1, sm__k_neighbors=5, total=   0.1s\n",
      "[CV] rfc__criterion=gini, rfc__min_samples_leaf=1, sm__k_neighbors=5 .\n",
      "[CV]  rfc__criterion=gini, rfc__min_samples_leaf=1, sm__k_neighbors=5, total=   0.1s\n",
      "[CV] rfc__criterion=gini, rfc__min_samples_leaf=1, sm__k_neighbors=5 .\n",
      "[CV]  rfc__criterion=gini, rfc__min_samples_leaf=1, sm__k_neighbors=5, total=   0.1s\n",
      "[CV] rfc__criterion=gini, rfc__min_samples_leaf=1, sm__k_neighbors=5 .\n",
      "[CV]  rfc__criterion=gini, rfc__min_samples_leaf=1, sm__k_neighbors=5, total=   0.1s\n",
      "[CV] rfc__criterion=gini, rfc__min_samples_leaf=1, sm__k_neighbors=5 .\n",
      "[CV]  rfc__criterion=gini, rfc__min_samples_leaf=1, sm__k_neighbors=5, total=   0.1s\n",
      "[CV] rfc__criterion=gini, rfc__min_samples_leaf=1, sm__k_neighbors=5 .\n",
      "[CV]  rfc__criterion=gini, rfc__min_samples_leaf=1, sm__k_neighbors=5, total=   0.1s\n",
      "[CV] rfc__criterion=gini, rfc__min_samples_leaf=1, sm__k_neighbors=7 .\n",
      "[CV]  rfc__criterion=gini, rfc__min_samples_leaf=1, sm__k_neighbors=7, total=   0.1s\n",
      "[CV] rfc__criterion=gini, rfc__min_samples_leaf=1, sm__k_neighbors=7 .\n",
      "[CV]  rfc__criterion=gini, rfc__min_samples_leaf=1, sm__k_neighbors=7, total=   0.1s\n",
      "[CV] rfc__criterion=gini, rfc__min_samples_leaf=1, sm__k_neighbors=7 .\n",
      "[CV]  rfc__criterion=gini, rfc__min_samples_leaf=1, sm__k_neighbors=7, total=   0.1s\n",
      "[CV] rfc__criterion=gini, rfc__min_samples_leaf=1, sm__k_neighbors=7 .\n",
      "[CV]  rfc__criterion=gini, rfc__min_samples_leaf=1, sm__k_neighbors=7, total=   0.1s\n",
      "[CV] rfc__criterion=gini, rfc__min_samples_leaf=1, sm__k_neighbors=7 .\n",
      "[CV]  rfc__criterion=gini, rfc__min_samples_leaf=1, sm__k_neighbors=7, total=   0.1s\n",
      "[CV] rfc__criterion=gini, rfc__min_samples_leaf=1, sm__k_neighbors=7 .\n",
      "[CV]  rfc__criterion=gini, rfc__min_samples_leaf=1, sm__k_neighbors=7, total=   0.1s\n",
      "[CV] rfc__criterion=gini, rfc__min_samples_leaf=1, sm__k_neighbors=7 .\n",
      "[CV]  rfc__criterion=gini, rfc__min_samples_leaf=1, sm__k_neighbors=7, total=   0.1s\n",
      "[CV] rfc__criterion=gini, rfc__min_samples_leaf=1, sm__k_neighbors=7 .\n",
      "[CV]  rfc__criterion=gini, rfc__min_samples_leaf=1, sm__k_neighbors=7, total=   0.1s\n",
      "[CV] rfc__criterion=gini, rfc__min_samples_leaf=1, sm__k_neighbors=7 .\n",
      "[CV]  rfc__criterion=gini, rfc__min_samples_leaf=1, sm__k_neighbors=7, total=   0.1s\n",
      "[CV] rfc__criterion=gini, rfc__min_samples_leaf=1, sm__k_neighbors=7 .\n",
      "[CV]  rfc__criterion=gini, rfc__min_samples_leaf=1, sm__k_neighbors=7, total=   0.1s\n",
      "[CV] rfc__criterion=gini, rfc__min_samples_leaf=5, sm__k_neighbors=3 .\n",
      "[CV]  rfc__criterion=gini, rfc__min_samples_leaf=5, sm__k_neighbors=3, total=   0.1s\n",
      "[CV] rfc__criterion=gini, rfc__min_samples_leaf=5, sm__k_neighbors=3 .\n",
      "[CV]  rfc__criterion=gini, rfc__min_samples_leaf=5, sm__k_neighbors=3, total=   0.1s\n",
      "[CV] rfc__criterion=gini, rfc__min_samples_leaf=5, sm__k_neighbors=3 .\n",
      "[CV]  rfc__criterion=gini, rfc__min_samples_leaf=5, sm__k_neighbors=3, total=   0.1s\n",
      "[CV] rfc__criterion=gini, rfc__min_samples_leaf=5, sm__k_neighbors=3 .\n",
      "[CV]  rfc__criterion=gini, rfc__min_samples_leaf=5, sm__k_neighbors=3, total=   0.1s\n",
      "[CV] rfc__criterion=gini, rfc__min_samples_leaf=5, sm__k_neighbors=3 .\n",
      "[CV]  rfc__criterion=gini, rfc__min_samples_leaf=5, sm__k_neighbors=3, total=   0.1s\n",
      "[CV] rfc__criterion=gini, rfc__min_samples_leaf=5, sm__k_neighbors=3 .\n",
      "[CV]  rfc__criterion=gini, rfc__min_samples_leaf=5, sm__k_neighbors=3, total=   0.1s\n",
      "[CV] rfc__criterion=gini, rfc__min_samples_leaf=5, sm__k_neighbors=3 .\n",
      "[CV]  rfc__criterion=gini, rfc__min_samples_leaf=5, sm__k_neighbors=3, total=   0.1s\n",
      "[CV] rfc__criterion=gini, rfc__min_samples_leaf=5, sm__k_neighbors=3 .\n",
      "[CV]  rfc__criterion=gini, rfc__min_samples_leaf=5, sm__k_neighbors=3, total=   0.1s\n",
      "[CV] rfc__criterion=gini, rfc__min_samples_leaf=5, sm__k_neighbors=3 .\n",
      "[CV]  rfc__criterion=gini, rfc__min_samples_leaf=5, sm__k_neighbors=3, total=   0.1s\n",
      "[CV] rfc__criterion=gini, rfc__min_samples_leaf=5, sm__k_neighbors=3 .\n",
      "[CV]  rfc__criterion=gini, rfc__min_samples_leaf=5, sm__k_neighbors=3, total=   0.1s\n",
      "[CV] rfc__criterion=gini, rfc__min_samples_leaf=5, sm__k_neighbors=5 .\n",
      "[CV]  rfc__criterion=gini, rfc__min_samples_leaf=5, sm__k_neighbors=5, total=   0.1s\n",
      "[CV] rfc__criterion=gini, rfc__min_samples_leaf=5, sm__k_neighbors=5 .\n",
      "[CV]  rfc__criterion=gini, rfc__min_samples_leaf=5, sm__k_neighbors=5, total=   0.1s\n",
      "[CV] rfc__criterion=gini, rfc__min_samples_leaf=5, sm__k_neighbors=5 .\n",
      "[CV]  rfc__criterion=gini, rfc__min_samples_leaf=5, sm__k_neighbors=5, total=   0.1s\n",
      "[CV] rfc__criterion=gini, rfc__min_samples_leaf=5, sm__k_neighbors=5 .\n",
      "[CV]  rfc__criterion=gini, rfc__min_samples_leaf=5, sm__k_neighbors=5, total=   0.1s\n",
      "[CV] rfc__criterion=gini, rfc__min_samples_leaf=5, sm__k_neighbors=5 .\n",
      "[CV]  rfc__criterion=gini, rfc__min_samples_leaf=5, sm__k_neighbors=5, total=   0.1s\n",
      "[CV] rfc__criterion=gini, rfc__min_samples_leaf=5, sm__k_neighbors=5 .\n",
      "[CV]  rfc__criterion=gini, rfc__min_samples_leaf=5, sm__k_neighbors=5, total=   0.1s\n",
      "[CV] rfc__criterion=gini, rfc__min_samples_leaf=5, sm__k_neighbors=5 .\n",
      "[CV]  rfc__criterion=gini, rfc__min_samples_leaf=5, sm__k_neighbors=5, total=   0.1s\n",
      "[CV] rfc__criterion=gini, rfc__min_samples_leaf=5, sm__k_neighbors=5 .\n",
      "[CV]  rfc__criterion=gini, rfc__min_samples_leaf=5, sm__k_neighbors=5, total=   0.1s\n",
      "[CV] rfc__criterion=gini, rfc__min_samples_leaf=5, sm__k_neighbors=5 .\n",
      "[CV]  rfc__criterion=gini, rfc__min_samples_leaf=5, sm__k_neighbors=5, total=   0.1s\n",
      "[CV] rfc__criterion=gini, rfc__min_samples_leaf=5, sm__k_neighbors=5 .\n",
      "[CV]  rfc__criterion=gini, rfc__min_samples_leaf=5, sm__k_neighbors=5, total=   0.1s\n",
      "[CV] rfc__criterion=gini, rfc__min_samples_leaf=5, sm__k_neighbors=7 .\n",
      "[CV]  rfc__criterion=gini, rfc__min_samples_leaf=5, sm__k_neighbors=7, total=   0.1s\n",
      "[CV] rfc__criterion=gini, rfc__min_samples_leaf=5, sm__k_neighbors=7 .\n",
      "[CV]  rfc__criterion=gini, rfc__min_samples_leaf=5, sm__k_neighbors=7, total=   0.1s\n",
      "[CV] rfc__criterion=gini, rfc__min_samples_leaf=5, sm__k_neighbors=7 .\n",
      "[CV]  rfc__criterion=gini, rfc__min_samples_leaf=5, sm__k_neighbors=7, total=   0.1s\n",
      "[CV] rfc__criterion=gini, rfc__min_samples_leaf=5, sm__k_neighbors=7 .\n",
      "[CV]  rfc__criterion=gini, rfc__min_samples_leaf=5, sm__k_neighbors=7, total=   0.1s\n",
      "[CV] rfc__criterion=gini, rfc__min_samples_leaf=5, sm__k_neighbors=7 .\n",
      "[CV]  rfc__criterion=gini, rfc__min_samples_leaf=5, sm__k_neighbors=7, total=   0.1s\n",
      "[CV] rfc__criterion=gini, rfc__min_samples_leaf=5, sm__k_neighbors=7 .\n",
      "[CV]  rfc__criterion=gini, rfc__min_samples_leaf=5, sm__k_neighbors=7, total=   0.1s\n",
      "[CV] rfc__criterion=gini, rfc__min_samples_leaf=5, sm__k_neighbors=7 .\n"
     ]
    },
    {
     "name": "stdout",
     "output_type": "stream",
     "text": [
      "[CV]  rfc__criterion=gini, rfc__min_samples_leaf=5, sm__k_neighbors=7, total=   0.1s\n",
      "[CV] rfc__criterion=gini, rfc__min_samples_leaf=5, sm__k_neighbors=7 .\n",
      "[CV]  rfc__criterion=gini, rfc__min_samples_leaf=5, sm__k_neighbors=7, total=   0.1s\n",
      "[CV] rfc__criterion=gini, rfc__min_samples_leaf=5, sm__k_neighbors=7 .\n",
      "[CV]  rfc__criterion=gini, rfc__min_samples_leaf=5, sm__k_neighbors=7, total=   0.1s\n",
      "[CV] rfc__criterion=gini, rfc__min_samples_leaf=5, sm__k_neighbors=7 .\n",
      "[CV]  rfc__criterion=gini, rfc__min_samples_leaf=5, sm__k_neighbors=7, total=   0.1s\n",
      "[CV] rfc__criterion=gini, rfc__min_samples_leaf=10, sm__k_neighbors=3 \n",
      "[CV]  rfc__criterion=gini, rfc__min_samples_leaf=10, sm__k_neighbors=3, total=   0.1s\n",
      "[CV] rfc__criterion=gini, rfc__min_samples_leaf=10, sm__k_neighbors=3 \n",
      "[CV]  rfc__criterion=gini, rfc__min_samples_leaf=10, sm__k_neighbors=3, total=   0.1s\n",
      "[CV] rfc__criterion=gini, rfc__min_samples_leaf=10, sm__k_neighbors=3 \n",
      "[CV]  rfc__criterion=gini, rfc__min_samples_leaf=10, sm__k_neighbors=3, total=   0.1s\n",
      "[CV] rfc__criterion=gini, rfc__min_samples_leaf=10, sm__k_neighbors=3 \n",
      "[CV]  rfc__criterion=gini, rfc__min_samples_leaf=10, sm__k_neighbors=3, total=   0.1s\n",
      "[CV] rfc__criterion=gini, rfc__min_samples_leaf=10, sm__k_neighbors=3 \n",
      "[CV]  rfc__criterion=gini, rfc__min_samples_leaf=10, sm__k_neighbors=3, total=   0.1s\n",
      "[CV] rfc__criterion=gini, rfc__min_samples_leaf=10, sm__k_neighbors=3 \n",
      "[CV]  rfc__criterion=gini, rfc__min_samples_leaf=10, sm__k_neighbors=3, total=   0.1s\n",
      "[CV] rfc__criterion=gini, rfc__min_samples_leaf=10, sm__k_neighbors=3 \n",
      "[CV]  rfc__criterion=gini, rfc__min_samples_leaf=10, sm__k_neighbors=3, total=   0.1s\n",
      "[CV] rfc__criterion=gini, rfc__min_samples_leaf=10, sm__k_neighbors=3 \n",
      "[CV]  rfc__criterion=gini, rfc__min_samples_leaf=10, sm__k_neighbors=3, total=   0.1s\n",
      "[CV] rfc__criterion=gini, rfc__min_samples_leaf=10, sm__k_neighbors=3 \n",
      "[CV]  rfc__criterion=gini, rfc__min_samples_leaf=10, sm__k_neighbors=3, total=   0.1s\n",
      "[CV] rfc__criterion=gini, rfc__min_samples_leaf=10, sm__k_neighbors=3 \n",
      "[CV]  rfc__criterion=gini, rfc__min_samples_leaf=10, sm__k_neighbors=3, total=   0.1s\n",
      "[CV] rfc__criterion=gini, rfc__min_samples_leaf=10, sm__k_neighbors=5 \n",
      "[CV]  rfc__criterion=gini, rfc__min_samples_leaf=10, sm__k_neighbors=5, total=   0.1s\n",
      "[CV] rfc__criterion=gini, rfc__min_samples_leaf=10, sm__k_neighbors=5 \n",
      "[CV]  rfc__criterion=gini, rfc__min_samples_leaf=10, sm__k_neighbors=5, total=   0.1s\n",
      "[CV] rfc__criterion=gini, rfc__min_samples_leaf=10, sm__k_neighbors=5 \n",
      "[CV]  rfc__criterion=gini, rfc__min_samples_leaf=10, sm__k_neighbors=5, total=   0.1s\n",
      "[CV] rfc__criterion=gini, rfc__min_samples_leaf=10, sm__k_neighbors=5 \n",
      "[CV]  rfc__criterion=gini, rfc__min_samples_leaf=10, sm__k_neighbors=5, total=   0.1s\n",
      "[CV] rfc__criterion=gini, rfc__min_samples_leaf=10, sm__k_neighbors=5 \n",
      "[CV]  rfc__criterion=gini, rfc__min_samples_leaf=10, sm__k_neighbors=5, total=   0.1s\n",
      "[CV] rfc__criterion=gini, rfc__min_samples_leaf=10, sm__k_neighbors=5 \n",
      "[CV]  rfc__criterion=gini, rfc__min_samples_leaf=10, sm__k_neighbors=5, total=   0.1s\n",
      "[CV] rfc__criterion=gini, rfc__min_samples_leaf=10, sm__k_neighbors=5 \n",
      "[CV]  rfc__criterion=gini, rfc__min_samples_leaf=10, sm__k_neighbors=5, total=   0.1s\n",
      "[CV] rfc__criterion=gini, rfc__min_samples_leaf=10, sm__k_neighbors=5 \n",
      "[CV]  rfc__criterion=gini, rfc__min_samples_leaf=10, sm__k_neighbors=5, total=   0.1s\n",
      "[CV] rfc__criterion=gini, rfc__min_samples_leaf=10, sm__k_neighbors=5 \n",
      "[CV]  rfc__criterion=gini, rfc__min_samples_leaf=10, sm__k_neighbors=5, total=   0.1s\n",
      "[CV] rfc__criterion=gini, rfc__min_samples_leaf=10, sm__k_neighbors=5 \n",
      "[CV]  rfc__criterion=gini, rfc__min_samples_leaf=10, sm__k_neighbors=5, total=   0.1s\n",
      "[CV] rfc__criterion=gini, rfc__min_samples_leaf=10, sm__k_neighbors=7 \n",
      "[CV]  rfc__criterion=gini, rfc__min_samples_leaf=10, sm__k_neighbors=7, total=   0.1s\n",
      "[CV] rfc__criterion=gini, rfc__min_samples_leaf=10, sm__k_neighbors=7 \n",
      "[CV]  rfc__criterion=gini, rfc__min_samples_leaf=10, sm__k_neighbors=7, total=   0.1s\n",
      "[CV] rfc__criterion=gini, rfc__min_samples_leaf=10, sm__k_neighbors=7 \n",
      "[CV]  rfc__criterion=gini, rfc__min_samples_leaf=10, sm__k_neighbors=7, total=   0.1s\n",
      "[CV] rfc__criterion=gini, rfc__min_samples_leaf=10, sm__k_neighbors=7 \n",
      "[CV]  rfc__criterion=gini, rfc__min_samples_leaf=10, sm__k_neighbors=7, total=   0.1s\n",
      "[CV] rfc__criterion=gini, rfc__min_samples_leaf=10, sm__k_neighbors=7 \n",
      "[CV]  rfc__criterion=gini, rfc__min_samples_leaf=10, sm__k_neighbors=7, total=   0.1s\n",
      "[CV] rfc__criterion=gini, rfc__min_samples_leaf=10, sm__k_neighbors=7 \n",
      "[CV]  rfc__criterion=gini, rfc__min_samples_leaf=10, sm__k_neighbors=7, total=   0.1s\n",
      "[CV] rfc__criterion=gini, rfc__min_samples_leaf=10, sm__k_neighbors=7 \n",
      "[CV]  rfc__criterion=gini, rfc__min_samples_leaf=10, sm__k_neighbors=7, total=   0.1s\n",
      "[CV] rfc__criterion=gini, rfc__min_samples_leaf=10, sm__k_neighbors=7 \n",
      "[CV]  rfc__criterion=gini, rfc__min_samples_leaf=10, sm__k_neighbors=7, total=   0.1s\n",
      "[CV] rfc__criterion=gini, rfc__min_samples_leaf=10, sm__k_neighbors=7 \n",
      "[CV]  rfc__criterion=gini, rfc__min_samples_leaf=10, sm__k_neighbors=7, total=   0.1s\n",
      "[CV] rfc__criterion=gini, rfc__min_samples_leaf=10, sm__k_neighbors=7 \n",
      "[CV]  rfc__criterion=gini, rfc__min_samples_leaf=10, sm__k_neighbors=7, total=   0.1s\n",
      "[CV] rfc__criterion=entropy, rfc__min_samples_leaf=1, sm__k_neighbors=3 \n",
      "[CV]  rfc__criterion=entropy, rfc__min_samples_leaf=1, sm__k_neighbors=3, total=   0.1s\n",
      "[CV] rfc__criterion=entropy, rfc__min_samples_leaf=1, sm__k_neighbors=3 \n",
      "[CV]  rfc__criterion=entropy, rfc__min_samples_leaf=1, sm__k_neighbors=3, total=   0.1s\n",
      "[CV] rfc__criterion=entropy, rfc__min_samples_leaf=1, sm__k_neighbors=3 \n",
      "[CV]  rfc__criterion=entropy, rfc__min_samples_leaf=1, sm__k_neighbors=3, total=   0.1s\n",
      "[CV] rfc__criterion=entropy, rfc__min_samples_leaf=1, sm__k_neighbors=3 \n",
      "[CV]  rfc__criterion=entropy, rfc__min_samples_leaf=1, sm__k_neighbors=3, total=   0.1s\n",
      "[CV] rfc__criterion=entropy, rfc__min_samples_leaf=1, sm__k_neighbors=3 \n",
      "[CV]  rfc__criterion=entropy, rfc__min_samples_leaf=1, sm__k_neighbors=3, total=   0.1s\n",
      "[CV] rfc__criterion=entropy, rfc__min_samples_leaf=1, sm__k_neighbors=3 \n",
      "[CV]  rfc__criterion=entropy, rfc__min_samples_leaf=1, sm__k_neighbors=3, total=   0.1s\n",
      "[CV] rfc__criterion=entropy, rfc__min_samples_leaf=1, sm__k_neighbors=3 \n",
      "[CV]  rfc__criterion=entropy, rfc__min_samples_leaf=1, sm__k_neighbors=3, total=   0.1s\n",
      "[CV] rfc__criterion=entropy, rfc__min_samples_leaf=1, sm__k_neighbors=3 \n",
      "[CV]  rfc__criterion=entropy, rfc__min_samples_leaf=1, sm__k_neighbors=3, total=   0.1s\n",
      "[CV] rfc__criterion=entropy, rfc__min_samples_leaf=1, sm__k_neighbors=3 \n",
      "[CV]  rfc__criterion=entropy, rfc__min_samples_leaf=1, sm__k_neighbors=3, total=   0.1s\n",
      "[CV] rfc__criterion=entropy, rfc__min_samples_leaf=1, sm__k_neighbors=3 \n",
      "[CV]  rfc__criterion=entropy, rfc__min_samples_leaf=1, sm__k_neighbors=3, total=   0.1s\n",
      "[CV] rfc__criterion=entropy, rfc__min_samples_leaf=1, sm__k_neighbors=5 \n",
      "[CV]  rfc__criterion=entropy, rfc__min_samples_leaf=1, sm__k_neighbors=5, total=   0.1s\n",
      "[CV] rfc__criterion=entropy, rfc__min_samples_leaf=1, sm__k_neighbors=5 \n",
      "[CV]  rfc__criterion=entropy, rfc__min_samples_leaf=1, sm__k_neighbors=5, total=   0.1s\n",
      "[CV] rfc__criterion=entropy, rfc__min_samples_leaf=1, sm__k_neighbors=5 \n",
      "[CV]  rfc__criterion=entropy, rfc__min_samples_leaf=1, sm__k_neighbors=5, total=   0.1s\n",
      "[CV] rfc__criterion=entropy, rfc__min_samples_leaf=1, sm__k_neighbors=5 \n",
      "[CV]  rfc__criterion=entropy, rfc__min_samples_leaf=1, sm__k_neighbors=5, total=   0.1s\n",
      "[CV] rfc__criterion=entropy, rfc__min_samples_leaf=1, sm__k_neighbors=5 \n",
      "[CV]  rfc__criterion=entropy, rfc__min_samples_leaf=1, sm__k_neighbors=5, total=   0.1s\n",
      "[CV] rfc__criterion=entropy, rfc__min_samples_leaf=1, sm__k_neighbors=5 \n",
      "[CV]  rfc__criterion=entropy, rfc__min_samples_leaf=1, sm__k_neighbors=5, total=   0.1s\n",
      "[CV] rfc__criterion=entropy, rfc__min_samples_leaf=1, sm__k_neighbors=5 \n",
      "[CV]  rfc__criterion=entropy, rfc__min_samples_leaf=1, sm__k_neighbors=5, total=   0.1s\n",
      "[CV] rfc__criterion=entropy, rfc__min_samples_leaf=1, sm__k_neighbors=5 \n",
      "[CV]  rfc__criterion=entropy, rfc__min_samples_leaf=1, sm__k_neighbors=5, total=   0.1s\n",
      "[CV] rfc__criterion=entropy, rfc__min_samples_leaf=1, sm__k_neighbors=5 \n",
      "[CV]  rfc__criterion=entropy, rfc__min_samples_leaf=1, sm__k_neighbors=5, total=   0.1s\n",
      "[CV] rfc__criterion=entropy, rfc__min_samples_leaf=1, sm__k_neighbors=5 \n"
     ]
    },
    {
     "name": "stdout",
     "output_type": "stream",
     "text": [
      "[CV]  rfc__criterion=entropy, rfc__min_samples_leaf=1, sm__k_neighbors=5, total=   0.1s\n",
      "[CV] rfc__criterion=entropy, rfc__min_samples_leaf=1, sm__k_neighbors=7 \n",
      "[CV]  rfc__criterion=entropy, rfc__min_samples_leaf=1, sm__k_neighbors=7, total=   0.1s\n",
      "[CV] rfc__criterion=entropy, rfc__min_samples_leaf=1, sm__k_neighbors=7 \n",
      "[CV]  rfc__criterion=entropy, rfc__min_samples_leaf=1, sm__k_neighbors=7, total=   0.1s\n",
      "[CV] rfc__criterion=entropy, rfc__min_samples_leaf=1, sm__k_neighbors=7 \n",
      "[CV]  rfc__criterion=entropy, rfc__min_samples_leaf=1, sm__k_neighbors=7, total=   0.1s\n",
      "[CV] rfc__criterion=entropy, rfc__min_samples_leaf=1, sm__k_neighbors=7 \n",
      "[CV]  rfc__criterion=entropy, rfc__min_samples_leaf=1, sm__k_neighbors=7, total=   0.1s\n",
      "[CV] rfc__criterion=entropy, rfc__min_samples_leaf=1, sm__k_neighbors=7 \n",
      "[CV]  rfc__criterion=entropy, rfc__min_samples_leaf=1, sm__k_neighbors=7, total=   0.1s\n",
      "[CV] rfc__criterion=entropy, rfc__min_samples_leaf=1, sm__k_neighbors=7 \n",
      "[CV]  rfc__criterion=entropy, rfc__min_samples_leaf=1, sm__k_neighbors=7, total=   0.1s\n",
      "[CV] rfc__criterion=entropy, rfc__min_samples_leaf=1, sm__k_neighbors=7 \n",
      "[CV]  rfc__criterion=entropy, rfc__min_samples_leaf=1, sm__k_neighbors=7, total=   0.1s\n",
      "[CV] rfc__criterion=entropy, rfc__min_samples_leaf=1, sm__k_neighbors=7 \n",
      "[CV]  rfc__criterion=entropy, rfc__min_samples_leaf=1, sm__k_neighbors=7, total=   0.1s\n",
      "[CV] rfc__criterion=entropy, rfc__min_samples_leaf=1, sm__k_neighbors=7 \n",
      "[CV]  rfc__criterion=entropy, rfc__min_samples_leaf=1, sm__k_neighbors=7, total=   0.1s\n",
      "[CV] rfc__criterion=entropy, rfc__min_samples_leaf=1, sm__k_neighbors=7 \n",
      "[CV]  rfc__criterion=entropy, rfc__min_samples_leaf=1, sm__k_neighbors=7, total=   0.1s\n",
      "[CV] rfc__criterion=entropy, rfc__min_samples_leaf=5, sm__k_neighbors=3 \n",
      "[CV]  rfc__criterion=entropy, rfc__min_samples_leaf=5, sm__k_neighbors=3, total=   0.1s\n",
      "[CV] rfc__criterion=entropy, rfc__min_samples_leaf=5, sm__k_neighbors=3 \n",
      "[CV]  rfc__criterion=entropy, rfc__min_samples_leaf=5, sm__k_neighbors=3, total=   0.1s\n",
      "[CV] rfc__criterion=entropy, rfc__min_samples_leaf=5, sm__k_neighbors=3 \n",
      "[CV]  rfc__criterion=entropy, rfc__min_samples_leaf=5, sm__k_neighbors=3, total=   0.1s\n",
      "[CV] rfc__criterion=entropy, rfc__min_samples_leaf=5, sm__k_neighbors=3 \n",
      "[CV]  rfc__criterion=entropy, rfc__min_samples_leaf=5, sm__k_neighbors=3, total=   0.1s\n",
      "[CV] rfc__criterion=entropy, rfc__min_samples_leaf=5, sm__k_neighbors=3 \n",
      "[CV]  rfc__criterion=entropy, rfc__min_samples_leaf=5, sm__k_neighbors=3, total=   0.1s\n",
      "[CV] rfc__criterion=entropy, rfc__min_samples_leaf=5, sm__k_neighbors=3 \n",
      "[CV]  rfc__criterion=entropy, rfc__min_samples_leaf=5, sm__k_neighbors=3, total=   0.1s\n",
      "[CV] rfc__criterion=entropy, rfc__min_samples_leaf=5, sm__k_neighbors=3 \n",
      "[CV]  rfc__criterion=entropy, rfc__min_samples_leaf=5, sm__k_neighbors=3, total=   0.1s\n",
      "[CV] rfc__criterion=entropy, rfc__min_samples_leaf=5, sm__k_neighbors=3 \n",
      "[CV]  rfc__criterion=entropy, rfc__min_samples_leaf=5, sm__k_neighbors=3, total=   0.1s\n",
      "[CV] rfc__criterion=entropy, rfc__min_samples_leaf=5, sm__k_neighbors=3 \n",
      "[CV]  rfc__criterion=entropy, rfc__min_samples_leaf=5, sm__k_neighbors=3, total=   0.1s\n",
      "[CV] rfc__criterion=entropy, rfc__min_samples_leaf=5, sm__k_neighbors=3 \n",
      "[CV]  rfc__criterion=entropy, rfc__min_samples_leaf=5, sm__k_neighbors=3, total=   0.1s\n",
      "[CV] rfc__criterion=entropy, rfc__min_samples_leaf=5, sm__k_neighbors=5 \n",
      "[CV]  rfc__criterion=entropy, rfc__min_samples_leaf=5, sm__k_neighbors=5, total=   0.1s\n",
      "[CV] rfc__criterion=entropy, rfc__min_samples_leaf=5, sm__k_neighbors=5 \n",
      "[CV]  rfc__criterion=entropy, rfc__min_samples_leaf=5, sm__k_neighbors=5, total=   0.1s\n",
      "[CV] rfc__criterion=entropy, rfc__min_samples_leaf=5, sm__k_neighbors=5 \n",
      "[CV]  rfc__criterion=entropy, rfc__min_samples_leaf=5, sm__k_neighbors=5, total=   0.1s\n",
      "[CV] rfc__criterion=entropy, rfc__min_samples_leaf=5, sm__k_neighbors=5 \n",
      "[CV]  rfc__criterion=entropy, rfc__min_samples_leaf=5, sm__k_neighbors=5, total=   0.1s\n",
      "[CV] rfc__criterion=entropy, rfc__min_samples_leaf=5, sm__k_neighbors=5 \n",
      "[CV]  rfc__criterion=entropy, rfc__min_samples_leaf=5, sm__k_neighbors=5, total=   0.1s\n",
      "[CV] rfc__criterion=entropy, rfc__min_samples_leaf=5, sm__k_neighbors=5 \n",
      "[CV]  rfc__criterion=entropy, rfc__min_samples_leaf=5, sm__k_neighbors=5, total=   0.1s\n",
      "[CV] rfc__criterion=entropy, rfc__min_samples_leaf=5, sm__k_neighbors=5 \n",
      "[CV]  rfc__criterion=entropy, rfc__min_samples_leaf=5, sm__k_neighbors=5, total=   0.1s\n",
      "[CV] rfc__criterion=entropy, rfc__min_samples_leaf=5, sm__k_neighbors=5 \n",
      "[CV]  rfc__criterion=entropy, rfc__min_samples_leaf=5, sm__k_neighbors=5, total=   0.1s\n",
      "[CV] rfc__criterion=entropy, rfc__min_samples_leaf=5, sm__k_neighbors=5 \n",
      "[CV]  rfc__criterion=entropy, rfc__min_samples_leaf=5, sm__k_neighbors=5, total=   0.1s\n",
      "[CV] rfc__criterion=entropy, rfc__min_samples_leaf=5, sm__k_neighbors=5 \n",
      "[CV]  rfc__criterion=entropy, rfc__min_samples_leaf=5, sm__k_neighbors=5, total=   0.1s\n",
      "[CV] rfc__criterion=entropy, rfc__min_samples_leaf=5, sm__k_neighbors=7 \n",
      "[CV]  rfc__criterion=entropy, rfc__min_samples_leaf=5, sm__k_neighbors=7, total=   0.1s\n",
      "[CV] rfc__criterion=entropy, rfc__min_samples_leaf=5, sm__k_neighbors=7 \n",
      "[CV]  rfc__criterion=entropy, rfc__min_samples_leaf=5, sm__k_neighbors=7, total=   0.1s\n",
      "[CV] rfc__criterion=entropy, rfc__min_samples_leaf=5, sm__k_neighbors=7 \n",
      "[CV]  rfc__criterion=entropy, rfc__min_samples_leaf=5, sm__k_neighbors=7, total=   0.1s\n",
      "[CV] rfc__criterion=entropy, rfc__min_samples_leaf=5, sm__k_neighbors=7 \n",
      "[CV]  rfc__criterion=entropy, rfc__min_samples_leaf=5, sm__k_neighbors=7, total=   0.1s\n",
      "[CV] rfc__criterion=entropy, rfc__min_samples_leaf=5, sm__k_neighbors=7 \n",
      "[CV]  rfc__criterion=entropy, rfc__min_samples_leaf=5, sm__k_neighbors=7, total=   0.1s\n",
      "[CV] rfc__criterion=entropy, rfc__min_samples_leaf=5, sm__k_neighbors=7 \n",
      "[CV]  rfc__criterion=entropy, rfc__min_samples_leaf=5, sm__k_neighbors=7, total=   0.1s\n",
      "[CV] rfc__criterion=entropy, rfc__min_samples_leaf=5, sm__k_neighbors=7 \n",
      "[CV]  rfc__criterion=entropy, rfc__min_samples_leaf=5, sm__k_neighbors=7, total=   0.1s\n",
      "[CV] rfc__criterion=entropy, rfc__min_samples_leaf=5, sm__k_neighbors=7 \n",
      "[CV]  rfc__criterion=entropy, rfc__min_samples_leaf=5, sm__k_neighbors=7, total=   0.1s\n",
      "[CV] rfc__criterion=entropy, rfc__min_samples_leaf=5, sm__k_neighbors=7 \n",
      "[CV]  rfc__criterion=entropy, rfc__min_samples_leaf=5, sm__k_neighbors=7, total=   0.1s\n",
      "[CV] rfc__criterion=entropy, rfc__min_samples_leaf=5, sm__k_neighbors=7 \n",
      "[CV]  rfc__criterion=entropy, rfc__min_samples_leaf=5, sm__k_neighbors=7, total=   0.1s\n",
      "[CV] rfc__criterion=entropy, rfc__min_samples_leaf=10, sm__k_neighbors=3 \n",
      "[CV]  rfc__criterion=entropy, rfc__min_samples_leaf=10, sm__k_neighbors=3, total=   0.1s\n",
      "[CV] rfc__criterion=entropy, rfc__min_samples_leaf=10, sm__k_neighbors=3 \n",
      "[CV]  rfc__criterion=entropy, rfc__min_samples_leaf=10, sm__k_neighbors=3, total=   0.1s\n",
      "[CV] rfc__criterion=entropy, rfc__min_samples_leaf=10, sm__k_neighbors=3 \n",
      "[CV]  rfc__criterion=entropy, rfc__min_samples_leaf=10, sm__k_neighbors=3, total=   0.1s\n",
      "[CV] rfc__criterion=entropy, rfc__min_samples_leaf=10, sm__k_neighbors=3 \n",
      "[CV]  rfc__criterion=entropy, rfc__min_samples_leaf=10, sm__k_neighbors=3, total=   0.1s\n",
      "[CV] rfc__criterion=entropy, rfc__min_samples_leaf=10, sm__k_neighbors=3 \n",
      "[CV]  rfc__criterion=entropy, rfc__min_samples_leaf=10, sm__k_neighbors=3, total=   0.1s\n",
      "[CV] rfc__criterion=entropy, rfc__min_samples_leaf=10, sm__k_neighbors=3 \n",
      "[CV]  rfc__criterion=entropy, rfc__min_samples_leaf=10, sm__k_neighbors=3, total=   0.1s\n",
      "[CV] rfc__criterion=entropy, rfc__min_samples_leaf=10, sm__k_neighbors=3 \n",
      "[CV]  rfc__criterion=entropy, rfc__min_samples_leaf=10, sm__k_neighbors=3, total=   0.1s\n",
      "[CV] rfc__criterion=entropy, rfc__min_samples_leaf=10, sm__k_neighbors=3 \n",
      "[CV]  rfc__criterion=entropy, rfc__min_samples_leaf=10, sm__k_neighbors=3, total=   0.1s\n",
      "[CV] rfc__criterion=entropy, rfc__min_samples_leaf=10, sm__k_neighbors=3 \n",
      "[CV]  rfc__criterion=entropy, rfc__min_samples_leaf=10, sm__k_neighbors=3, total=   0.1s\n",
      "[CV] rfc__criterion=entropy, rfc__min_samples_leaf=10, sm__k_neighbors=3 \n",
      "[CV]  rfc__criterion=entropy, rfc__min_samples_leaf=10, sm__k_neighbors=3, total=   0.1s\n",
      "[CV] rfc__criterion=entropy, rfc__min_samples_leaf=10, sm__k_neighbors=5 \n",
      "[CV]  rfc__criterion=entropy, rfc__min_samples_leaf=10, sm__k_neighbors=5, total=   0.1s\n",
      "[CV] rfc__criterion=entropy, rfc__min_samples_leaf=10, sm__k_neighbors=5 \n"
     ]
    },
    {
     "name": "stdout",
     "output_type": "stream",
     "text": [
      "[CV]  rfc__criterion=entropy, rfc__min_samples_leaf=10, sm__k_neighbors=5, total=   0.1s\n",
      "[CV] rfc__criterion=entropy, rfc__min_samples_leaf=10, sm__k_neighbors=5 \n",
      "[CV]  rfc__criterion=entropy, rfc__min_samples_leaf=10, sm__k_neighbors=5, total=   0.1s\n",
      "[CV] rfc__criterion=entropy, rfc__min_samples_leaf=10, sm__k_neighbors=5 \n",
      "[CV]  rfc__criterion=entropy, rfc__min_samples_leaf=10, sm__k_neighbors=5, total=   0.1s\n",
      "[CV] rfc__criterion=entropy, rfc__min_samples_leaf=10, sm__k_neighbors=5 \n",
      "[CV]  rfc__criterion=entropy, rfc__min_samples_leaf=10, sm__k_neighbors=5, total=   0.1s\n",
      "[CV] rfc__criterion=entropy, rfc__min_samples_leaf=10, sm__k_neighbors=5 \n",
      "[CV]  rfc__criterion=entropy, rfc__min_samples_leaf=10, sm__k_neighbors=5, total=   0.1s\n",
      "[CV] rfc__criterion=entropy, rfc__min_samples_leaf=10, sm__k_neighbors=5 \n",
      "[CV]  rfc__criterion=entropy, rfc__min_samples_leaf=10, sm__k_neighbors=5, total=   0.1s\n",
      "[CV] rfc__criterion=entropy, rfc__min_samples_leaf=10, sm__k_neighbors=5 \n",
      "[CV]  rfc__criterion=entropy, rfc__min_samples_leaf=10, sm__k_neighbors=5, total=   0.1s\n",
      "[CV] rfc__criterion=entropy, rfc__min_samples_leaf=10, sm__k_neighbors=5 \n",
      "[CV]  rfc__criterion=entropy, rfc__min_samples_leaf=10, sm__k_neighbors=5, total=   0.1s\n",
      "[CV] rfc__criterion=entropy, rfc__min_samples_leaf=10, sm__k_neighbors=5 \n",
      "[CV]  rfc__criterion=entropy, rfc__min_samples_leaf=10, sm__k_neighbors=5, total=   0.1s\n",
      "[CV] rfc__criterion=entropy, rfc__min_samples_leaf=10, sm__k_neighbors=7 \n",
      "[CV]  rfc__criterion=entropy, rfc__min_samples_leaf=10, sm__k_neighbors=7, total=   0.1s\n",
      "[CV] rfc__criterion=entropy, rfc__min_samples_leaf=10, sm__k_neighbors=7 \n",
      "[CV]  rfc__criterion=entropy, rfc__min_samples_leaf=10, sm__k_neighbors=7, total=   0.1s\n",
      "[CV] rfc__criterion=entropy, rfc__min_samples_leaf=10, sm__k_neighbors=7 \n",
      "[CV]  rfc__criterion=entropy, rfc__min_samples_leaf=10, sm__k_neighbors=7, total=   0.1s\n",
      "[CV] rfc__criterion=entropy, rfc__min_samples_leaf=10, sm__k_neighbors=7 \n",
      "[CV]  rfc__criterion=entropy, rfc__min_samples_leaf=10, sm__k_neighbors=7, total=   0.1s\n",
      "[CV] rfc__criterion=entropy, rfc__min_samples_leaf=10, sm__k_neighbors=7 \n",
      "[CV]  rfc__criterion=entropy, rfc__min_samples_leaf=10, sm__k_neighbors=7, total=   0.1s\n",
      "[CV] rfc__criterion=entropy, rfc__min_samples_leaf=10, sm__k_neighbors=7 \n",
      "[CV]  rfc__criterion=entropy, rfc__min_samples_leaf=10, sm__k_neighbors=7, total=   0.1s\n",
      "[CV] rfc__criterion=entropy, rfc__min_samples_leaf=10, sm__k_neighbors=7 \n",
      "[CV]  rfc__criterion=entropy, rfc__min_samples_leaf=10, sm__k_neighbors=7, total=   0.1s\n",
      "[CV] rfc__criterion=entropy, rfc__min_samples_leaf=10, sm__k_neighbors=7 \n",
      "[CV]  rfc__criterion=entropy, rfc__min_samples_leaf=10, sm__k_neighbors=7, total=   0.1s\n",
      "[CV] rfc__criterion=entropy, rfc__min_samples_leaf=10, sm__k_neighbors=7 \n",
      "[CV]  rfc__criterion=entropy, rfc__min_samples_leaf=10, sm__k_neighbors=7, total=   0.1s\n",
      "[CV] rfc__criterion=entropy, rfc__min_samples_leaf=10, sm__k_neighbors=7 \n",
      "[CV]  rfc__criterion=entropy, rfc__min_samples_leaf=10, sm__k_neighbors=7, total=   0.1s\n"
     ]
    },
    {
     "name": "stderr",
     "output_type": "stream",
     "text": [
      "[Parallel(n_jobs=1)]: Done 180 out of 180 | elapsed:   17.2s finished\n"
     ]
    },
    {
     "data": {
      "text/plain": [
       "GridSearchCV(cv=10,\n",
       "             estimator=Pipeline(steps=[('ct',\n",
       "                                        ColumnTransformer(remainder='passthrough',\n",
       "                                                          transformers=[('subpipe_num',\n",
       "                                                                         Pipeline(steps=[('num_impute',\n",
       "                                                                                          SimpleImputer(strategy='median')),\n",
       "                                                                                         ('ss',\n",
       "                                                                                          StandardScaler())]),\n",
       "                                                                         <sklearn.compose._column_transformer.make_column_selector object at 0x7fbafb30a8e0>),\n",
       "                                                                        ('subpipe_cat',\n",
       "                                                                         Pipeline(steps=[('cat_impute',\n",
       "                                                                                          SimpleImput...t')),\n",
       "                                                                                         ('ohe',\n",
       "                                                                                          OneHotEncoder(handle_unknown='ignore',\n",
       "                                                                                                        sparse=False))]),\n",
       "                                                                         <sklearn.compose._column_transformer.make_column_selector object at 0x7fbafb30a9a0>)])),\n",
       "                                       ('sm', SMOTE(random_state=42)),\n",
       "                                       ('rfc',\n",
       "                                        RandomForestClassifier(random_state=42))]),\n",
       "             param_grid={'rfc__criterion': ['gini', 'entropy'],\n",
       "                         'rfc__min_samples_leaf': [1, 5, 10],\n",
       "                         'sm__k_neighbors': [3, 5, 7]},\n",
       "             verbose=2)"
      ]
     },
     "execution_count": 53,
     "metadata": {},
     "output_type": "execute_result"
    }
   ],
   "source": [
    "gs.fit(X_train_clean, y_train_clean)"
   ]
  },
  {
   "cell_type": "code",
   "execution_count": 54,
   "metadata": {},
   "outputs": [
    {
     "data": {
      "text/plain": [
       "{'rfc__criterion': 'gini', 'rfc__min_samples_leaf': 10, 'sm__k_neighbors': 3}"
      ]
     },
     "execution_count": 54,
     "metadata": {},
     "output_type": "execute_result"
    }
   ],
   "source": [
    "gs.best_params_"
   ]
  },
  {
   "cell_type": "code",
   "execution_count": 55,
   "metadata": {},
   "outputs": [
    {
     "data": {
      "text/plain": [
       "0.7052760307477288"
      ]
     },
     "execution_count": 55,
     "metadata": {},
     "output_type": "execute_result"
    }
   ],
   "source": [
    "gs.best_score_"
   ]
  },
  {
   "cell_type": "markdown",
   "metadata": {},
   "source": [
    "## Evaluation on Test Set"
   ]
  },
  {
   "cell_type": "markdown",
   "metadata": {},
   "source": [
    "Let's suppose that we choose our final model from this last GridSearch run. Note that the optimal parameters are also the default values!"
   ]
  },
  {
   "cell_type": "code",
   "execution_count": 56,
   "metadata": {},
   "outputs": [],
   "source": [
    "final_model = ImPipeline(steps=[\n",
    "    ('ct', CT),\n",
    "    ('sm',SMOTE(k_neighbors=3, random_state=42)),\n",
    "    ('rfc', RandomForestClassifier(min_samples_leaf=10, random_state=42, criterion='gini'))\n",
    "])"
   ]
  },
  {
   "cell_type": "code",
   "execution_count": 57,
   "metadata": {},
   "outputs": [
    {
     "data": {
      "text/plain": [
       "Pipeline(steps=[('ct',\n",
       "                 ColumnTransformer(remainder='passthrough',\n",
       "                                   transformers=[('subpipe_num',\n",
       "                                                  Pipeline(steps=[('num_impute',\n",
       "                                                                   SimpleImputer(strategy='median')),\n",
       "                                                                  ('ss',\n",
       "                                                                   StandardScaler())]),\n",
       "                                                  <sklearn.compose._column_transformer.make_column_selector object at 0x7fbafb30a8e0>),\n",
       "                                                 ('subpipe_cat',\n",
       "                                                  Pipeline(steps=[('cat_impute',\n",
       "                                                                   SimpleImputer(strategy='most_frequent')),\n",
       "                                                                  ('ohe',\n",
       "                                                                   OneHotEncoder(handle_unknown='ignore',\n",
       "                                                                                 sparse=False))]),\n",
       "                                                  <sklearn.compose._column_transformer.make_column_selector object at 0x7fbafb30a9a0>)])),\n",
       "                ('sm', SMOTE(k_neighbors=3, random_state=42)),\n",
       "                ('rfc',\n",
       "                 RandomForestClassifier(min_samples_leaf=10, random_state=42))])"
      ]
     },
     "execution_count": 57,
     "metadata": {},
     "output_type": "execute_result"
    }
   ],
   "source": [
    "final_model.fit(X_train_clean, y_train_clean)"
   ]
  },
  {
   "cell_type": "code",
   "execution_count": 58,
   "metadata": {
    "scrolled": true
   },
   "outputs": [
    {
     "data": {
      "text/plain": [
       "<bound method Pipeline.get_params of Pipeline(steps=[('ct',\n",
       "                 ColumnTransformer(remainder='passthrough',\n",
       "                                   transformers=[('subpipe_num',\n",
       "                                                  Pipeline(steps=[('num_impute',\n",
       "                                                                   SimpleImputer(strategy='median')),\n",
       "                                                                  ('ss',\n",
       "                                                                   StandardScaler())]),\n",
       "                                                  <sklearn.compose._column_transformer.make_column_selector object at 0x7fbafb30a8e0>),\n",
       "                                                 ('subpipe_cat',\n",
       "                                                  Pipeline(steps=[('cat_impute',\n",
       "                                                                   SimpleImputer(strategy='most_frequent')),\n",
       "                                                                  ('ohe',\n",
       "                                                                   OneHotEncoder(handle_unknown='ignore',\n",
       "                                                                                 sparse=False))]),\n",
       "                                                  <sklearn.compose._column_transformer.make_column_selector object at 0x7fbafb30a9a0>)])),\n",
       "                ('sm', SMOTE(k_neighbors=3, random_state=42)),\n",
       "                ('rfc',\n",
       "                 RandomForestClassifier(min_samples_leaf=10, random_state=42))])>"
      ]
     },
     "execution_count": 58,
     "metadata": {},
     "output_type": "execute_result"
    }
   ],
   "source": [
    "final_model.get_params"
   ]
  },
  {
   "cell_type": "code",
   "execution_count": 59,
   "metadata": {},
   "outputs": [
    {
     "name": "stderr",
     "output_type": "stream",
     "text": [
      "/Users/charlielosche/opt/anaconda3/envs/learn-env/lib/python3.8/site-packages/sklearn/compose/_column_transformer.py:437: FutureWarning: Given feature/column names or counts do not match the ones for the data given during fit. This will fail from v0.24.\n",
      "  warnings.warn(\"Given feature/column names or counts do not match \"\n"
     ]
    },
    {
     "data": {
      "image/png": "[encoded data removed]",
      "text/plain": [
       "<Figure size 432x288 with 2 Axes>"
      ]
     },
     "metadata": {
      "needs_background": "light"
     },
     "output_type": "display_data"
    }
   ],
   "source": [
    "plot_confusion_matrix(final_model, X_test, y_test);"
   ]
  },
  {
   "cell_type": "code",
   "execution_count": 60,
   "metadata": {},
   "outputs": [
    {
     "name": "stderr",
     "output_type": "stream",
     "text": [
      "/Users/charlielosche/opt/anaconda3/envs/learn-env/lib/python3.8/site-packages/sklearn/compose/_column_transformer.py:437: FutureWarning: Given feature/column names or counts do not match the ones for the data given during fit. This will fail from v0.24.\n",
      "  warnings.warn(\"Given feature/column names or counts do not match \"\n"
     ]
    }
   ],
   "source": [
    "y_hat = final_model.predict(X_test)"
   ]
  },
  {
   "cell_type": "code",
   "execution_count": 61,
   "metadata": {},
   "outputs": [
    {
     "name": "stdout",
     "output_type": "stream",
     "text": [
      "\n",
      "Our final model's accuracy on the test set is 0.74. \n",
      "\n",
      "Our final model's recall on the test set is 0.66 \n",
      "\n",
      "Our final model's precision on the test set is 0.67 \n",
      "\n",
      "Our final model's f1-score on the test is 0.67.\n",
      "\n"
     ]
    }
   ],
   "source": [
    "print(f\"\"\"\n",
    "Our final model's accuracy on the test set is {round(accuracy_score(y_test, y_hat), 2)}. \\n\n",
    "Our final model's recall on the test set is {round(recall_score(y_test, y_hat), 2)} \\n\n",
    "Our final model's precision on the test set is {round(precision_score(y_test, y_hat), 2)} \\n\n",
    "Our final model's f1-score on the test is {round(f1_score(y_test, y_hat), 2)}.\n",
    "\"\"\")"
   ]
  },
  {
   "cell_type": "markdown",
   "metadata": {},
   "source": [
    "## Exercise: Your Turn!"
   ]
  },
  {
   "cell_type": "markdown",
   "metadata": {},
   "source": [
    "Use SMOTE and an estimator (model) of your choice in a pipeline to model the exoplanets' method of discovery (\"method\"). You can build a model one feature at a time or just throw them all in from the beginning. Consider using the LabelEncoder (from sklearn.preprocessing) to code up the target. You'll also need to make a choice about how to handle the null values."
   ]
  },
  {
   "cell_type": "code",
   "execution_count": 62,
   "metadata": {},
   "outputs": [],
   "source": [
    "exos = sns.load_dataset('planets')"
   ]
  },
  {
   "cell_type": "code",
   "execution_count": 63,
   "metadata": {},
   "outputs": [],
   "source": [
    "### Your work here\n",
    "\n",
    "\n",
    "\n",
    "\n",
    "\n",
    "\n"
   ]
  },
  {
   "cell_type": "code",
   "execution_count": null,
   "metadata": {},
   "outputs": [],
   "source": []
  }
 ],
 "metadata": {
  "kernelspec": {
   "display_name": "Python (learn-env)",
   "language": "python",
   "name": "learn-env"
  },
  "language_info": {
   "codemirror_mode": {
    "name": "ipython",
    "version": 3
   },
   "file_extension": ".py",
   "mimetype": "text/x-python",
   "name": "python",
   "nbconvert_exporter": "python",
   "pygments_lexer": "ipython3",
   "version": "3.8.5"
  },
  "toc": {
   "base_numbering": 1,
   "nav_menu": {},
   "number_sections": true,
   "sideBar": true,
   "skip_h1_title": false,
   "title_cell": "Table of Contents",
   "title_sidebar": "Contents",
   "toc_cell": false,
   "toc_position": {},
   "toc_section_display": true,
   "toc_window_display": false
  },
  "varInspector": {
   "cols": {
    "lenName": 16,
    "lenType": 16,
    "lenVar": 40
   },
   "kernels_config": {
    "python": {
     "delete_cmd_postfix": "",
     "delete_cmd_prefix": "del ",
     "library": "var_list.py",
     "varRefreshCmd": "print(var_dic_list())"
    },
    "r": {
     "delete_cmd_postfix": ") ",
     "delete_cmd_prefix": "rm(",
     "library": "var_list.r",
     "varRefreshCmd": "cat(var_dic_list()) "
    }
   },
   "types_to_exclude": [
    "module",
    "function",
    "builtin_function_or_method",
    "instance",
    "_Feature"
   ],
   "window_display": true
  }
 },
 "nbformat": 4,
 "nbformat_minor": 4
}
